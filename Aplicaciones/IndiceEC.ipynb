{
 "cells": [
  {
   "cell_type": "markdown",
   "metadata": {},
   "source": [
    "# Indices E y C\n",
    "\n",
    "<div style='max-width: 500px; padding: 10px; background-color:#EFEFF0'>\n",
    "<strong>Takahashi, K., Montecinos, A., Goubanova, K., and Dewitte, B ( 2011)</strong>, ENSO regimes: Reinterpreting the canonical and Modoki El Niño, Geophys. Res. Lett., 38, L10704, <a href=' https://doi.org/10.1029/2011GL047364'>doi:10.1029/2011GL047364</a>.\n",
    "</div>"
   ]
  },
  {
   "cell_type": "markdown",
   "metadata": {},
   "source": [
    "El paper desarrollado por Takahashi et. al. propone que los dos primeros modos resultantes del análisis de funciones ortogonales empíricas (EOF) para las anomalías de temperatura superficial del mar no representan fenómenos distintos, EOF1 asociado a El Niño la Oscilación Sur (ENOS) y EOF2 asociado a El Niño Modoki, sino a la evolución no lineal del ENOS. Esta evolución se traduce a los índices E y C los cuales no guardan correlación (no se encuentran relacionados por construcción) y logran explicar la variabilidad presente en el Pacífico Ecuatorial, con el índice C representando el régimen de variabilidad en el Pacífico Central y el índice E en el Pacífico Este.\n",
    "\n",
    "El trabajo original hace uso del set de datos de temperatura superficial del mar de Hadley Centre Global Sea Ice and Sea Surface Temperature (HadISST) version 1.1; el trabajo de monitoreo por parte del IGP cuenta con el cálculo de este índice usando ERSSTv3b al cual se puede acceder mediante el siguiente [link](http://www.met.igp.gob.pe/variabclim/indices.html)\n",
    "\n",
    "Para realizar los cálculos usaremos los datos de temperatura ERSSTv5 [1] a los cuales accederemos mediante el DODS de IRI Data Library. Seguiremos los siguientes pasos:\n",
    "\n",
    "<ol>\n",
    "    \n",
    "<li>Cargamos los datos usando xarray arreglando los tiempos de ser necesario restringiendo nuestro dominio a 10°S-10°N, 110°E-90°W y el tiempo desde enero de 1870 en adelante</li>\n",
    "\n",
    "<li>Calculamos la anomalía tomando como periodo base 1979-2009. Este periodo será usado para todos los cálculos (EOFs y correlaciones)</li>\n",
    "\n",
    "<li>Realizamos el cálculo de EOFs sobre el periodo de la climatología.</li>\n",
    "\n",
    "<li>Proyectamos la serie completa de las anomalías sobre las EOFs calculadas en la climatología para obtener los componentes principales (PC). Esto se obtiene mediante un producto interno.</li>\n",
    "\n",
    "<li>Normalizamos los componentes principales usando la desviación estandar del periodo base y se aplica un filtro 1-2-1. Esto último lo logramos haciendo una correlación cruzada</li>\n",
    "\n",
    "<li>Realizamos una regresión lineal de los campos de anomalía con los componentes principales para obtener los patrones espaciales de temperatura asociado a cada índice</li>\n",
    "\n",
    "</ol>\n",
    "\n",
    "## Referencias:\n",
    "\n",
    "[1]: Huang, B., P. W. Thorne, V. F. Banzon, T. Boyer, G. Chepurin, J. H. Lawrimore, M. J. Menne, T. M. Smith, R. S. Vose, and H.-M. Zhang, 2017: Extended Reconstructed Sea Surface Temperature, version 5 (ERSSTv5): Upgrades, validations, and intercomparisons. J. Climate, 30, 8179-8205, doi:10.1175/JCLI-D-16-0836.1."
   ]
  },
  {
   "cell_type": "markdown",
   "metadata": {},
   "source": [
    "# Implementación en Python\n",
    "\n",
    "Haremos uso principalmente de dos librerias: xarray para el manejo de datos y eofs para realizar el calculo de EOFs sobre objetos de xarray. Los gráficos los manejaremos con matplotlib y cartopy."
   ]
  },
  {
   "cell_type": "code",
   "execution_count": null,
   "metadata": {},
   "outputs": [],
   "source": [
    "import matplotlib.pyplot as plt\n",
    "import cartopy.crs as ccrs\n",
    "import cartopy.feature as cfeature\n",
    "\n",
    "import xarray as xr\n",
    "import numpy as np\n",
    "from eofs.xarray import Eof\n",
    "from scipy.stats import linregress\n",
    "\n",
    "%matplotlib inline"
   ]
  },
  {
   "cell_type": "markdown",
   "metadata": {},
   "source": [
    "## 1. Cargamos los datos directo de IRI Library"
   ]
  },
  {
   "cell_type": "code",
   "execution_count": null,
   "metadata": {},
   "outputs": [],
   "source": [
    "ersstv5_iri = xr.open_dataset('http://iridl.ldeo.columbia.edu/SOURCES/.NOAA/.NCDC/.ERSST/.version5/.sst/dods',decode_times=False)\n",
    "ersstv5_iri.T.attrs['calendar'] = '360_day'\n",
    "\n",
    "# Ahora le decimos a xarray que interprete los tiempos\n",
    "ersstv5_iri = xr.decode_cf(ersstv5_iri).rename({'X':'lon','Y':'lat','T':'time'}).isel(zlev=0).drop('zlev')\n",
    "# Convertimos los tiempos a objetos de pandas\n",
    "ersstv5_iri['time'] = ersstv5_iri.indexes['time'].to_datetimeindex()\n",
    "ersstv5_iri"
   ]
  },
  {
   "cell_type": "code",
   "execution_count": null,
   "metadata": {},
   "outputs": [],
   "source": [
    "from scipy import signal\n",
    "def xdetrend(xrobj, dim):\n",
    "    mask = np.isnan(xrobj)\n",
    "    out = xr.apply_ufunc(signal.detrend, xrobj.interpolate_na(dim='time').fillna(0), input_core_dims=[[dim]], output_core_dims=[[dim]], kwargs={'axis':-1})\n",
    "    out = out.where(~mask)\n",
    "    return out.transpose('time','lat','lon')"
   ]
  },
  {
   "cell_type": "code",
   "execution_count": null,
   "metadata": {},
   "outputs": [],
   "source": [
    "sst_pac = ersstv5_iri.sst.sel(lat=slice(-30, 30), lon=slice(110, 290), time=slice('1870-01-01', None)).load()\n",
    "sst_pac = xdetrend(sst_pac, 'time')\n",
    "sst_pac"
   ]
  },
  {
   "cell_type": "markdown",
   "metadata": {},
   "source": [
    "## 2. Calculamos la climatología y la anomalía"
   ]
  },
  {
   "cell_type": "code",
   "execution_count": null,
   "metadata": {},
   "outputs": [],
   "source": [
    "clim = sst_pac.sel(time=slice('1979-01-01','2009-12-30')).groupby('time.month').mean(dim='time')\n",
    "sst_anom = sst_pac.groupby('time.month') - clim\n",
    "sst_anom"
   ]
  },
  {
   "cell_type": "markdown",
   "metadata": {},
   "source": [
    "## 3. Calculamos las EOFs para el periodo de la climatología"
   ]
  },
  {
   "cell_type": "code",
   "execution_count": null,
   "metadata": {},
   "outputs": [],
   "source": [
    "clim_period = sst_anom.sel(time=slice('1979-01-01','2009-12-31'), lat=slice(-10, 10))\n",
    "coslat = np.cos(np.deg2rad(clim_period.lat.data))\n",
    "wgts = np.sqrt(coslat)[..., np.newaxis]\n",
    "\n",
    "# Creamos un objeto solver que realizara los calculos de EOFs\n",
    "# y le agregamos pesos a los datos de acuerdo a la raiz cuadrada\n",
    "# del coseno de la latitud\n",
    "solver = Eof(clim_period, weights=wgts)"
   ]
  },
  {
   "cell_type": "code",
   "execution_count": null,
   "metadata": {},
   "outputs": [],
   "source": [
    "clim_eof = solver.eofsAsCovariance(neofs=2)\n",
    "clim_var = solver.varianceFraction(3)\n",
    "clim_eof"
   ]
  },
  {
   "cell_type": "code",
   "execution_count": null,
   "metadata": {},
   "outputs": [],
   "source": [
    "import hvplot.xarray"
   ]
  },
  {
   "cell_type": "code",
   "execution_count": null,
   "metadata": {},
   "outputs": [],
   "source": [
    "solver.reconstructedField(2).hvplot(groupby='time',x='lon',y='lat', cmap=plt.get_cmap('RdBu_r')).redim.range(sst=(-1.5,1.5))"
   ]
  },
  {
   "cell_type": "code",
   "execution_count": null,
   "metadata": {},
   "outputs": [],
   "source": [
    "crs = ccrs.PlateCarree()\n",
    "fig, axs = plt.subplots(dpi=200,\n",
    "                        figsize=(8,3),\n",
    "                        nrows=2,\n",
    "                        subplot_kw={'projection':ccrs.PlateCarree(central_longitude=180)})\n",
    "clim_eof.isel(mode=0).plot(ax=axs[0], transform=crs, add_colorbar=False)\n",
    "clim_eof.isel(mode=1).plot(ax=axs[1], transform=crs, add_colorbar=False)\n",
    "for ax in axs:\n",
    "    ax.add_feature(cfeature.COASTLINE)"
   ]
  },
  {
   "cell_type": "markdown",
   "metadata": {},
   "source": [
    "Vemos que el modo 2 se encuentra invertido por lo que creamos un factor de corrección"
   ]
  },
  {
   "cell_type": "code",
   "execution_count": null,
   "metadata": {},
   "outputs": [],
   "source": [
    "corr_factor = xr.DataArray(np.array([1,-1]),coords=[('mode',[0,1])])\n",
    "clim_eof = clim_eof * corr_factor\n",
    "clim_eof"
   ]
  },
  {
   "cell_type": "code",
   "execution_count": null,
   "metadata": {},
   "outputs": [],
   "source": [
    "crs = ccrs.PlateCarree()\n",
    "fig, axs = plt.subplots(dpi=200,\n",
    "                        figsize=(8,3),\n",
    "                        nrows=2,\n",
    "                        subplot_kw={'projection':ccrs.PlateCarree(central_longitude=180)})\n",
    "clim_eof.isel(mode=0).plot(ax=axs[0], transform=crs, add_colorbar=False)\n",
    "clim_eof.isel(mode=1).plot(ax=axs[1], transform=crs, add_colorbar=False)\n",
    "for ax in axs:\n",
    "    ax.add_feature(cfeature.COASTLINE)"
   ]
  },
  {
   "cell_type": "markdown",
   "metadata": {},
   "source": [
    "## 4. Proyectamos las anomalías sobre las EOFs de nuestro periodo base"
   ]
  },
  {
   "cell_type": "code",
   "execution_count": null,
   "metadata": {},
   "outputs": [],
   "source": [
    "proj_sst = solver.projectField(sst_anom.sel(lat=slice(-10, 10)), neofs=2) * corr_factor\n",
    "proj_sst"
   ]
  },
  {
   "cell_type": "markdown",
   "metadata": {},
   "source": [
    "## 5. Normalizamos y aplicamos filtro 1-2-1"
   ]
  },
  {
   "cell_type": "code",
   "execution_count": null,
   "metadata": {},
   "outputs": [],
   "source": [
    "def ax_correlate(*args, **kwargs):\n",
    "    return np.apply_along_axis(np.correlate, -1, *args, **kwargs)\n",
    "\n",
    "def xsmooth(xrobj, weights):\n",
    "    return xr.apply_ufunc(ax_correlate, xrobj, weights, input_core_dims=[['time'],[]], output_core_dims=[['time']], kwargs={'mode':'same'})"
   ]
  },
  {
   "cell_type": "code",
   "execution_count": null,
   "metadata": {},
   "outputs": [],
   "source": [
    "climpc_std = solver.pcs(npcs=2).std(dim='time')\n",
    "\n",
    "# Normalizamos por la desviación estandar del periodo base\n",
    "proj_sst_norm = proj_sst/climpc_std"
   ]
  },
  {
   "cell_type": "code",
   "execution_count": null,
   "metadata": {},
   "outputs": [],
   "source": [
    "PC1 = proj_sst_norm.sel(mode=0)\n",
    "PC2 = proj_sst_norm.sel(mode=1)\n",
    "C = (PC1+PC2)/(2**0.5)\n",
    "E = (PC1-PC2)/(2**0.5)"
   ]
  },
  {
   "cell_type": "code",
   "execution_count": null,
   "metadata": {},
   "outputs": [],
   "source": [
    "fig, ax = plt.subplots()\n",
    "E.sel(time=slice('1990-01-01',None)).plot(ax=ax)\n",
    "ax.set_ylim(-2,5)"
   ]
  },
  {
   "cell_type": "code",
   "execution_count": null,
   "metadata": {},
   "outputs": [],
   "source": [
    "fig, ax = plt.subplots()\n",
    "C.sel(time=slice('1990-01-01',None)).plot(ax=ax)\n",
    "ax.set_ylim(-4,3)"
   ]
  },
  {
   "cell_type": "markdown",
   "metadata": {},
   "source": [
    "Podemos comparar nuestros resultados con los obtenidos por el IGP en su web de [Indices climáticos](http://www.met.igp.gob.pe/variabclim/indices.html)\n",
    "\n",
    "![eyc](http://www.met.igp.gob.pe/datos/EC.gif)"
   ]
  },
  {
   "cell_type": "code",
   "execution_count": null,
   "metadata": {},
   "outputs": [],
   "source": [
    "style = dict(lw=0.5,c='k')\n",
    "E_plot = E.sel(time=slice('1988-01-01', None))\n",
    "C_plot = C.sel(time=slice('1988-01-01', None))\n",
    "\n",
    "fig, ax = plt.subplots(nrows=2, dpi=200)\n",
    "\n",
    "E_plot.plot(ax=ax[0], **style)\n",
    "ax[0].set_ylim([-2, 5])\n",
    "\n",
    "C_plot.plot(ax=ax[1], **style)\n",
    "ax[1].set_ylim([-4, 3])\n",
    "\n",
    "fig.subplots_adjust(hspace=0.6)"
   ]
  },
  {
   "cell_type": "markdown",
   "metadata": {},
   "source": [
    "## 5. Regresion lineal anom - pcs"
   ]
  },
  {
   "cell_type": "code",
   "execution_count": null,
   "metadata": {},
   "outputs": [],
   "source": [
    "import tqdm.notebook as tqdm\n",
    "\n",
    "def get_lincoeff(pc, anom, **lbar_kwargs):\n",
    "    lin_coeff = np.zeros_like(anom[0])\n",
    "    for i in tqdm.trange(anom.shape[1],**lbar_kwargs):\n",
    "        for j in range(anom.shape[2]):\n",
    "            lin_coeff[i,j] = linregress(pc.data,anom[:,i,j].data)[0]\n",
    "    lin_coeff = xr.DataArray(lin_coeff, dims=['latitude','longitude'], coords=[anom.lat.data,anom.lon.data])\n",
    "    return lin_coeff"
   ]
  },
  {
   "cell_type": "code",
   "execution_count": null,
   "metadata": {},
   "outputs": [],
   "source": [
    "E_pattern = get_lincoeff(E.sel(time=clim_period.time), sst_anom.sel(time=clim_period.time), desc='E pattern')\n",
    "C_pattern = get_lincoeff(C.sel(time=clim_period.time), sst_anom.sel(time=clim_period.time), desc='C pattern')"
   ]
  },
  {
   "cell_type": "code",
   "execution_count": null,
   "metadata": {},
   "outputs": [],
   "source": [
    "C_pattern.plot.contourf(levels=np.arange(-1.3,1.31,0.2))"
   ]
  },
  {
   "cell_type": "code",
   "execution_count": null,
   "metadata": {},
   "outputs": [],
   "source": [
    "E_pattern.plot.contourf(levels=np.arange(-1.3,1.31,0.2))"
   ]
  },
  {
   "cell_type": "code",
   "execution_count": null,
   "metadata": {},
   "outputs": [],
   "source": []
  }
 ],
 "metadata": {
  "kernelspec": {
   "display_name": "Python 3",
   "language": "python",
   "name": "python3"
  },
  "language_info": {
   "codemirror_mode": {
    "name": "ipython",
    "version": 3
   },
   "file_extension": ".py",
   "mimetype": "text/x-python",
   "name": "python",
   "nbconvert_exporter": "python",
   "pygments_lexer": "ipython3",
   "version": "3.7.3"
  }
 },
 "nbformat": 4,
 "nbformat_minor": 4
}
