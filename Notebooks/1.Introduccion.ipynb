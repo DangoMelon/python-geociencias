{
 "cells": [
  {
   "cell_type": "markdown",
   "metadata": {},
   "source": [
    "# 1. Introducción\n",
    "\n",
    "Python es un lenguaje multipropósito el cual tuvo un incremento de popularidad durante los últimos años. Dentro del ámbito de las geociencias su uso se ha visto incrementado debido a la madurez de las librerias necesarias para el análisis y procesamiento de datos."
   ]
  },
  {
   "cell_type": "markdown",
   "metadata": {},
   "source": [
    "## Flujo de Trabajo\n",
    "\n",
    "Se hará uso extensivo de los famosos Jupyter Notebooks el cual se basa en un conjunto de celdas de texto, para explicar algunos detalles (como la celda actual), y celdas de código que nos serviran de patio de juegos.\n",
    "\n",
    "### Lo que necesito saber\n",
    "\n",
    "- Cada celda en un Notebook se tiene que ejecutar para generar una salida. Estas salidas pueden ser de Markdown (texto) o Python (código)\n",
    "- La celda actual siempre estará resaltada con una barra azul en el lado izquierdo\n",
    "- Para crear una celda nueva deberá hacer click en el icono `+` que se encuentra en la barra de tareas\n",
    "- Para ejecutar la celda actual deberá darle click al botón de _play_ que se encuentra en la barra de herramientas del notebook o haciendo uso del atajo `ctrl+Enter`. Si desea la celda actual y avanzar a la siguiente celda deberá usar el atajo `shift+Enter`\n",
    "- Cada celda de código ejecutada será marcada con un número correspondiente al conteo de ejecuciones realizadas. Tener en cuenta que python es un lenguaje interpretado por lo que la numeración nos ayudará a entender el orden de ejecución.\n",
    "- Los notebooks realizan todas las acciones sobre un kernel de python independiente. Mientras mantegamos una sesión activa (no reiniciemos el kernel) todas las variables asignadas serán conservadas en la memoria. Si la ejecución de una celda toma mucho tiempo y deseamos detener la ejecución, podemos interrumpir el kernel usando el botón de _stop_ en la barra de herramientas. En el peor de los casos puede reiniciar el kernel para iniciar una sesion fresca de python."
   ]
  },
  {
   "cell_type": "markdown",
   "metadata": {},
   "source": [
    "### Python como calculadora\n",
    "\n",
    "Al igual que MATLAB, Octave y R, Python permite realizar operaciones matemáticas simples como si fuera una calculadora."
   ]
  },
  {
   "cell_type": "code",
   "execution_count": null,
   "metadata": {},
   "outputs": [],
   "source": [
    "12e5/500 - 420"
   ]
  },
  {
   "cell_type": "markdown",
   "metadata": {},
   "source": [
    "### Como usar paquetes\n",
    "\n",
    "Los paquetes son un conjunto de utilidades que extienden las herramientas disponibles. Python no carga ningun paquete o módulo por defecto asi que deben de ser cargadas por el usuario conforme lo vaya requiriendo.\n",
    "\n",
    "Siguiendo el ejemplo anterior, digamos que ahora queremos calcular el coseno de algun angulo o alguna otra operación matemática que involucre llamar a una función matemática. Python ofrece el módulo `math` dentro de la Librería Estandar de Python la cual proporciona este tipo de operaciones."
   ]
  },
  {
   "cell_type": "code",
   "execution_count": null,
   "metadata": {},
   "outputs": [],
   "source": [
    "import math\n",
    "math.cos(2*math.pi)"
   ]
  },
  {
   "cell_type": "markdown",
   "metadata": {},
   "source": [
    "Dentro de python existe algo llamado _espacio de nombres_ o _namespace_ el cual define el alcance de las declaraciones dentro de nuestro programa. Al importar el módulo `math`, estamos cargando todo el _namespace_ del módulo `math` dentro de un objeto con el mismo nombre. Para acceder a las funciones definidas dentro de `math` se hace uso de la notación punto, i.e. `math.cos`. Esto se puede comprobar de la siguiente forma"
   ]
  },
  {
   "cell_type": "code",
   "execution_count": null,
   "metadata": {},
   "outputs": [],
   "source": [
    "print(math)\n",
    "print(math.cos)"
   ]
  },
  {
   "cell_type": "markdown",
   "metadata": {},
   "source": [
    "Existen diferentes formas de importar un paquete en python, a continuacion veremos algunas de las formas mas comunes\n",
    "\n",
    "- ```python\n",
    "import math\n",
    "```\n",
    "Esta forma de importar fue la primera que vimos, todo el contenido del módulo `math` esta disponible dentro del objeto con el mismo nombre.\n",
    "\n",
    "\n",
    "- ```python\n",
    "import math as m\n",
    "```\n",
    "Esta sintaxis le asigna un alias al _namespace_ de `math` el cual ahora estara disponible dentro de `m` (o el nombre que se desee). Existen ciertas convenciones en las abreviaciones al momento de importar algunos paquetes para trabajar en la misma linea base.\n",
    "\n",
    "\n",
    "- ```python\n",
    "from math import cos, pi\n",
    "```\n",
    "Esto solo importará la función `cos` y el valor de `pi` dentro del _namespace_ de nuestro programa. Ahora se podrá llamar a la función `cos` sin nececidad de especificar el _namespace_ al cual pertenece como previamente se hizo, i.e `cos(2*pi)`\n",
    "\n",
    "\n",
    "- ```python\n",
    "from math import cos as c, pi as p\n",
    "```\n",
    "Esto importara la función `cos` del _namespace_ de `math` dentro del _namespace_ de nuestro programa asignadole el alias `c`. De ahora en adelante se podrá usar la función coseno de manera simplificada, i.e. `c(2*p)`"
   ]
  },
  {
   "cell_type": "markdown",
   "metadata": {},
   "source": [
    "**Practicando**\n",
    "\n",
    "Python tiene un módulo llamado `datetime` el cual proporciona algunas operaciones de conveniencias con fechas. Dentro del módulo `datetime` se encuentra una clase llamada `datetime` (mismo nombre) la cual contiene un método llamado `today` el cual imprime la fecha actual en (Año, mes, dia, hora, minuto, segundo, microsegundo). Si quisieramos hacer uso de este método tendríamos que realizar lo siguiente\n",
    "\n",
    "```python\n",
    ">> import datetime\n",
    ">> datetime.datetime.today()\n",
    "datetime.datetime(2019, 9, 12, 13, 59, 2, 849994) #resultado\n",
    "```\n",
    "\n",
    "Si quisiera acceder a la clase `datetime` usando solamente `dt` como alias, ¿Cómo deberia importar la librería?"
   ]
  },
  {
   "cell_type": "code",
   "execution_count": null,
   "metadata": {},
   "outputs": [],
   "source": [
    "# Resultado"
   ]
  },
  {
   "cell_type": "markdown",
   "metadata": {},
   "source": [
    "Tener en cuenta que cada problema es una situación nueva para aprender. En caso presenten alguna dificultad deben consultar siempre la documentación de la libreria en uso."
   ]
  }
 ],
 "metadata": {
  "kernelspec": {
   "display_name": "Python 3",
   "language": "python",
   "name": "python3"
  },
  "language_info": {
   "codemirror_mode": {
    "name": "ipython",
    "version": 3
   },
   "file_extension": ".py",
   "mimetype": "text/x-python",
   "name": "python",
   "nbconvert_exporter": "python",
   "pygments_lexer": "ipython3",
   "version": "3.7.3"
  }
 },
 "nbformat": 4,
 "nbformat_minor": 4
}
