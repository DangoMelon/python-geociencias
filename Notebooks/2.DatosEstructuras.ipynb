{
 "cells": [
  {
   "cell_type": "markdown",
   "metadata": {},
   "source": [
    "# 2. Datos y Estructuras\n",
    "\n",
    "## 2.1 Tipos de Datos\n",
    "Al ser un lenguaje orientado a objetos, toda variable que declaremos en Python es un objeto (hasta los numeros). Las variables son referencias a los objetos que le son asignados, por ende, uno no necesita declarar el tipo de una variable antes de asignarle un valor (ya que todo es un objeto).\n",
    "\n",
    "Las variables son asignadas mediante el signo de igualdad `=`"
   ]
  },
  {
   "cell_type": "code",
   "execution_count": null,
   "metadata": {},
   "outputs": [],
   "source": [
    "x = 4\n",
    "print(f\"La variable x tiene como valor {x} el cual es de tipo {type(x)}.\\n¿x es un objeto? {isinstance(x, object)}\")"
   ]
  },
  {
   "cell_type": "markdown",
   "metadata": {},
   "source": [
    "Como pudimos observar en el ejemplo anterior, el valor de `x` pertener a la clase `int`, un tipo de objeto en python que representa los numeros enteros. Para entender mejor la idea de objetos en python, uno puede imaginar el caso de operaciones con ángulos en donde se sabe que una rotación completa da $2\\pi$. Si este problema se implementara sin tratar a los ángulos como un tipo de variable especial, esta regla nunca se llegaría a cumplir ya que las sumas no estarían enteradas del concepto de una rotación completa. Para solucionar esto, se puede tratar cada ángulo como un objeto independiente que comparte las mismas operaciones base pero tiene caracteristicas diferente, tal como medida, origen, sentido, etc.\n",
    "\n",
    "Volviendo al ejemplo donde `x=4`. Esta asignación de variable no limita el tipo de dato que `x` puede contener, esto quiere decir que podemos asignarle a `x` otro valor de otro tipo"
   ]
  },
  {
   "cell_type": "code",
   "execution_count": null,
   "metadata": {},
   "outputs": [],
   "source": [
    "x=\"hola\"\n",
    "print(f\"La variable x tiene como valor {x} el cual es de tipo {type(x)}.\\n¿x es un objeto? {isinstance(x, object)}\")"
   ]
  },
  {
   "cell_type": "markdown",
   "metadata": {},
   "source": [
    "Como se puede observar, ambos valores asignados a `x` forman parte de objetos distintos, pudiendo ser asignados a la misma variable sin importar el tipo de objeto que inicialmente fue guardado. Python es inteligente de manera que puede interpretar lo cualquier valor que ingresemos y asignarle el tipo que corresponde.\n",
    "\n",
    "Dentro de los tipos de datos tenemos:\n",
    "\n",
    "- Integers\n",
    "- Floats\n",
    "- Complex\n",
    "- Strings\n",
    "- Boolean\n",
    "\n",
    "\n",
    "Todos estos elementos pueden ser agrupados en distintas estructuras que python ofrece tales como diccionarios, tuplas, listas y conjuntos. Ahora veremos como es que funcionan este tipo de estructuras."
   ]
  },
  {
   "cell_type": "markdown",
   "metadata": {},
   "source": [
    "## 2.2 Estructuras\n",
    "\n",
    "### 2.2.1 Listas\n",
    "\n",
    "Las listas son agrupaciones de elementos que mantienen el orden en el que son guardados y permiten ser reordenados (son mutables). Una lista se define mediante corchetes y los elementos son separados por comas, i.e `[1, 9, 'a']`"
   ]
  },
  {
   "cell_type": "code",
   "execution_count": null,
   "metadata": {},
   "outputs": [],
   "source": [
    "milista = [1, 9, 7, 9]\n",
    "print(milista)\n",
    "print(type(milista))"
   ]
  },
  {
   "cell_type": "markdown",
   "metadata": {},
   "source": [
    "Los elementos de una lista no necesariamente tienen que ser del mismo tipo, una lista puede almacenar elementos que perteneces a tipos distintos."
   ]
  },
  {
   "cell_type": "code",
   "execution_count": null,
   "metadata": {},
   "outputs": [],
   "source": [
    "comb = [1, 'a', 2j, True]\n",
    "comb"
   ]
  },
  {
   "cell_type": "markdown",
   "metadata": {},
   "source": [
    "Tener en cuenta que una lista es no es una matriz, asi que las operaciones que uno espera que funcionen pueden dar resultados inesperados. Un ejemplo concreto es el de dos listas que contienen números y queremos obtener la suma"
   ]
  },
  {
   "cell_type": "code",
   "execution_count": null,
   "metadata": {},
   "outputs": [],
   "source": [
    "lista1 = [1, 4, 7, 4]\n",
    "lista2 = [5, 2, -3, 4]\n",
    "lista1 + lista2"
   ]
  },
  {
   "cell_type": "markdown",
   "metadata": {},
   "source": [
    "La suma de dos listas nos da como resultado la concatenación de ambas.\n",
    "\n",
    "Como las listas son una clase, tienen métodos accesibles mediante la notación punto. Un ejemplo de esto es el método `sort` para ordenar el contenido de una lista"
   ]
  },
  {
   "cell_type": "code",
   "execution_count": null,
   "metadata": {},
   "outputs": [],
   "source": [
    "lista1.sort()\n",
    "lista1"
   ]
  },
  {
   "cell_type": "markdown",
   "metadata": {},
   "source": [
    "Podemos seleccionar elementos individuales o un grupo de elementos usando _indexing_"
   ]
  },
  {
   "cell_type": "code",
   "execution_count": null,
   "metadata": {},
   "outputs": [],
   "source": [
    "lista2[0] # selecciona el primer elemento"
   ]
  },
  {
   "cell_type": "code",
   "execution_count": null,
   "metadata": {},
   "outputs": [],
   "source": [
    "lista2[-1] # selecciona el ultimo elemento"
   ]
  },
  {
   "cell_type": "code",
   "execution_count": null,
   "metadata": {},
   "outputs": [],
   "source": [
    "lista2[1:3] # selecciona desde el segundo elemento hasta el cuarto (exclusivo)"
   ]
  },
  {
   "cell_type": "markdown",
   "metadata": {},
   "source": [
    "### 2.2.2 Tuplas\n",
    "\n",
    "Las tuplas son agrupaciones ordenadas e inmutables de elementos, esto quiere decir que no podemos alterar el orden del mismo. Se declaran usando parentesis y los elementos estan separados por comas, i.e. `(1,2,3,4,5)`. Son utiles cuando se quieren ingresar argumentos a algunas funciones"
   ]
  },
  {
   "cell_type": "code",
   "execution_count": null,
   "metadata": {},
   "outputs": [],
   "source": [
    "mitupla = (1,3)\n",
    "print(mitupla)\n",
    "print(type(mitupla))"
   ]
  },
  {
   "cell_type": "markdown",
   "metadata": {},
   "source": [
    "### 2.2.3 Diccionarios\n",
    "\n",
    "Los diccionarios son agrupaciones desordenadas de elementos los cuales se componen de una llave y un valor. Se declaran usando llaves y los elementos siguien la siguiente sintaxis `llave:valor`, i.e. `{'tiempo':'1990-01-01', 'lat':-15, 'lon': 140}`"
   ]
  },
  {
   "cell_type": "code",
   "execution_count": null,
   "metadata": {},
   "outputs": [],
   "source": [
    "midict = {'tiempo':'1990-01-01', 'lat':-15, 'lon': 140}\n",
    "print(midict)\n",
    "print(type(midict))"
   ]
  },
  {
   "cell_type": "markdown",
   "metadata": {},
   "source": [
    "Para acceder a los elementos de un diccionario se deberán usar las llaves correspondientes"
   ]
  },
  {
   "cell_type": "code",
   "execution_count": null,
   "metadata": {},
   "outputs": [],
   "source": [
    "midict['tiempo']"
   ]
  },
  {
   "cell_type": "code",
   "execution_count": null,
   "metadata": {},
   "outputs": [],
   "source": []
  }
 ],
 "metadata": {
  "kernelspec": {
   "display_name": "Python 3",
   "language": "python",
   "name": "python3"
  },
  "language_info": {
   "codemirror_mode": {
    "name": "ipython",
    "version": 3
   },
   "file_extension": ".py",
   "mimetype": "text/x-python",
   "name": "python",
   "nbconvert_exporter": "python",
   "pygments_lexer": "ipython3",
   "version": "3.6.7"
  }
 },
 "nbformat": 4,
 "nbformat_minor": 4
}
