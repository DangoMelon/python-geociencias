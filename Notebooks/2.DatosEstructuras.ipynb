{
 "cells": [
  {
   "cell_type": "markdown",
   "metadata": {},
   "source": [
    "# 2. Tipos y Estructuras de datos\n",
    "\n",
    "## 2.1 Tipos de Datos\n",
    "Al ser un lenguaje orientado a objetos, toda variable que declaremos en Python es un objeto (hasta los numeros). Las variables son referencias a los objetos que le son asignados, por ende, uno no necesita declarar el tipo de una variable antes de asignarle un valor (ya que todo es un objeto).\n",
    "\n",
    "Las variables son asignadas mediante el signo de igualdad `=`"
   ]
  },
  {
   "cell_type": "code",
   "execution_count": null,
   "metadata": {},
   "outputs": [],
   "source": [
    "x = 4\n",
    "print(f\"La variable x tiene como valor {x} el cual es de tipo {type(x)}.\\n¿x es un objeto? {isinstance(x, object)}\")"
   ]
  },
  {
   "cell_type": "markdown",
   "metadata": {},
   "source": [
    "Como pudimos observar en el ejemplo anterior, el valor de `x` pertener a la clase `int`, un tipo de objeto en python que representa los numeros enteros. Para entender mejor la idea de objetos en python, uno puede imaginar el caso de operaciones con ángulos en donde se sabe que una rotación completa da $2\\pi$. Si este problema se implementara sin tratar a los ángulos como un tipo de variable especial, esta regla nunca se llegaría a cumplir ya que las sumas no estarían enteradas del concepto de una rotación completa. Para solucionar esto, se puede tratar cada ángulo como un objeto independiente que comparte las mismas operaciones base pero tiene caracteristicas diferente, tal como medida, origen, sentido, etc.\n",
    "\n",
    "Volviendo al ejemplo donde `x=4`. Esta asignación de variable no limita el tipo de dato que `x` puede contener, esto quiere decir que podemos asignarle a `x` otro valor de otro tipo"
   ]
  },
  {
   "cell_type": "code",
   "execution_count": null,
   "metadata": {},
   "outputs": [],
   "source": [
    "x=\"hola\"\n",
    "print(f\"La variable x tiene como valor {x} el cual es de tipo {type(x)}.\\n¿x es un objeto? {isinstance(x, object)}\")"
   ]
  },
  {
   "cell_type": "markdown",
   "metadata": {},
   "source": [
    "Como se puede observar, ambos valores asignados a `x` forman parte de objetos distintos, pudiendo ser asignados a la misma variable sin importar el tipo de objeto que inicialmente fue guardado. Python es inteligente de manera que puede interpretar lo cualquier valor que ingresemos y asignarle el tipo que corresponde.\n",
    "\n",
    "Dentro de los tipos de datos tenemos:\n",
    "\n",
    "- Integers\n",
    "- Floats\n",
    "- Complex\n",
    "- Strings\n",
    "- Boolean\n",
    "\n",
    "\n",
    "Todos estos elementos pueden ser agrupados en distintas estructuras que python ofrece tales como diccionarios, tuplas, listas y conjuntos. Ahora veremos como es que funcionan este tipo de estructuras."
   ]
  },
  {
   "cell_type": "markdown",
   "metadata": {},
   "source": [
    "## 2.2 Estructuras\n",
    "\n",
    "### 2.2.1 Listas\n",
    "\n",
    "Las listas son agrupaciones de elementos que mantienen el orden en el que son guardados y permiten ser reordenados (son mutables). Una lista se define mediante corchetes y los elementos son separados por comas, i.e `[1, 9, 'a']`"
   ]
  },
  {
   "cell_type": "code",
   "execution_count": null,
   "metadata": {},
   "outputs": [],
   "source": [
    "milista = [1, 9, 7, 9]\n",
    "print(milista)\n",
    "print(type(milista))"
   ]
  },
  {
   "cell_type": "markdown",
   "metadata": {},
   "source": [
    "Los elementos de una lista no necesariamente tienen que ser del mismo tipo, una lista puede almacenar elementos que perteneces a tipos distintos."
   ]
  },
  {
   "cell_type": "code",
   "execution_count": null,
   "metadata": {},
   "outputs": [],
   "source": [
    "comb = [1, 'a', 2j, True]\n",
    "comb"
   ]
  },
  {
   "cell_type": "markdown",
   "metadata": {},
   "source": [
    "Tener en cuenta que una lista es no es una matriz, asi que las operaciones que uno espera que funcionen pueden dar resultados inesperados. Un ejemplo concreto es el de dos listas que contienen números y queremos obtener la suma"
   ]
  },
  {
   "cell_type": "code",
   "execution_count": null,
   "metadata": {},
   "outputs": [],
   "source": [
    "lista1 = [1, 4, 7, 4]\n",
    "lista2 = [5, 2, -3, 4]\n",
    "lista3 = lista1 + lista2\n",
    "lista3"
   ]
  },
  {
   "cell_type": "markdown",
   "metadata": {},
   "source": [
    "La suma de dos listas nos da como resultado la concatenación de ambas.\n",
    "\n",
    "Como las listas son una clase, tienen métodos accesibles mediante la notación punto. Un ejemplo de esto es el método `sort` para ordenar el contenido de una lista"
   ]
  },
  {
   "cell_type": "code",
   "execution_count": null,
   "metadata": {},
   "outputs": [],
   "source": [
    "lista1.sort()\n",
    "lista1"
   ]
  },
  {
   "cell_type": "markdown",
   "metadata": {},
   "source": [
    "Podemos seleccionar elementos individuales o un grupo de elementos usando _indexing_"
   ]
  },
  {
   "cell_type": "code",
   "execution_count": null,
   "metadata": {},
   "outputs": [],
   "source": [
    "lista2[0] # selecciona el primer elemento"
   ]
  },
  {
   "cell_type": "code",
   "execution_count": null,
   "metadata": {},
   "outputs": [],
   "source": [
    "lista2[-1] # selecciona el ultimo elemento"
   ]
  },
  {
   "cell_type": "code",
   "execution_count": null,
   "metadata": {},
   "outputs": [],
   "source": [
    "lista2[1:3] # selecciona desde el segundo elemento hasta el cuarto (exclusivo)"
   ]
  },
  {
   "cell_type": "markdown",
   "metadata": {},
   "source": [
    "#### Algunas operaciones con listas\n",
    "\n",
    "Las listas, al ser un tipo de objeto en python (una clase), proporcionan ciertos métodos de conveniencia para algunas operaciones. A continuación veremos algunas de las más usadas\n",
    "\n",
    "- ##### `append`\n",
    "A veces uno tiene una lista sobre la cual quiere agregar más elementos individuales. Si bien han podido concatenar dos listas haciendo una suma, i.e. `lista1+lista2`, si se quisiera agregar un elemento que no forma parte de una lista (como por ejemplo un número o un string) se toparían que sumar la lista con el elemento no funciona. Para obtener el resultado esperado se tiene que usar el método `append` el cual es accesible mediante la notación punto. Multiples ejecuciones de la celda en donde se usa `append` agregará cada vez el mismo elemento al final de la lista."
   ]
  },
  {
   "cell_type": "code",
   "execution_count": null,
   "metadata": {},
   "outputs": [],
   "source": [
    "lista3 + 3 # Esto va a fallar"
   ]
  },
  {
   "cell_type": "code",
   "execution_count": null,
   "metadata": {},
   "outputs": [],
   "source": [
    "lista3.append(3) # Esto agrega 3 como ultimo elemento a nuestra lista.\n",
    "lista3.append(5)\n",
    "lista3"
   ]
  },
  {
   "cell_type": "markdown",
   "metadata": {},
   "source": [
    "- #### `remove`\n",
    "Al contrario que `append`, este método quitará el elemento que se le pase como argumento de la lista. Si el elemento a eliminar se encuentra duplicado en la lista, se eliminará la primera ocurrencia del elemento de izquierda a derecha"
   ]
  },
  {
   "cell_type": "code",
   "execution_count": null,
   "metadata": {},
   "outputs": [],
   "source": [
    "lista3.remove(4)\n",
    "lista3"
   ]
  },
  {
   "cell_type": "markdown",
   "metadata": {},
   "source": [
    "- #### `index`\n",
    "Ya sabemos como seleccionar elementos de acuerdo a su indice, pero ¿cómo haríamos si no tenemos información alguna sobre el orden de la lista y quisieramos la posición de un elemento? Para esto se usa el método `index` el que retornara la posición en la lista (índice) del elemento que le solicitamos. Si en una lista hay 2 o más elementos repetidos, se retornara el índice de la primera ocurrencia de izquierda a derecha."
   ]
  },
  {
   "cell_type": "code",
   "execution_count": null,
   "metadata": {},
   "outputs": [],
   "source": [
    "print(lista3)\n",
    "lista3.index(7) # La posición del numero 7 dentro de esta lista"
   ]
  },
  {
   "cell_type": "code",
   "execution_count": null,
   "metadata": {},
   "outputs": [],
   "source": [
    "lista3.append(7)\n",
    "print(lista3)\n",
    "lista3.index(7) # La ubicación del primer 4 que encuentre de izquiera a derecha"
   ]
  },
  {
   "cell_type": "markdown",
   "metadata": {},
   "source": [
    "- #### `pop`\n",
    "Similar a `remove` que quita elementos de acuerdo a su valor, `pop` quitará elementos de una lista de acuerdo al índice posicional en el que se encuentren"
   ]
  },
  {
   "cell_type": "code",
   "execution_count": null,
   "metadata": {},
   "outputs": [],
   "source": [
    "lista3.pop(1)\n",
    "lista3"
   ]
  },
  {
   "cell_type": "markdown",
   "metadata": {},
   "source": [
    "- #### `reverse`\n",
    "Tal como el nombre lo indica, este método revertira el orden de la lista"
   ]
  },
  {
   "cell_type": "code",
   "execution_count": null,
   "metadata": {},
   "outputs": [],
   "source": [
    "lista3.reverse()\n",
    "lista3"
   ]
  },
  {
   "cell_type": "markdown",
   "metadata": {},
   "source": [
    "### 2.2.2 Tuplas\n",
    "\n",
    "Las tuplas son agrupaciones ordenadas e inmutables de elementos, esto quiere decir que no podemos alterar el orden del mismo. Se declaran usando parentesis y los elementos estan separados por comas, i.e. `(1,2,3,4,5)`. Son utiles cuando se quieren ingresar argumentos a algunas funciones"
   ]
  },
  {
   "cell_type": "code",
   "execution_count": null,
   "metadata": {},
   "outputs": [],
   "source": [
    "mitupla = (1,3)\n",
    "print(mitupla)\n",
    "print(type(mitupla))"
   ]
  },
  {
   "cell_type": "markdown",
   "metadata": {},
   "source": [
    "### 2.2.3 Diccionarios\n",
    "\n",
    "Los diccionarios son agrupaciones desordenadas de elementos los cuales se componen de una llave y un valor. Se declaran usando llaves y los elementos siguien la siguiente sintaxis `llave:valor`, i.e. `{'tiempo':'1990-01-01', 'lat':-15, 'lon': 140}`"
   ]
  },
  {
   "cell_type": "code",
   "execution_count": null,
   "metadata": {},
   "outputs": [],
   "source": [
    "midict = {'tiempo':'1990-01-01', 'lat':-15, 'lon': 140, 'miembros':[1,2,3,4,5,6,7]}\n",
    "print(midict)\n",
    "print(type(midict))"
   ]
  },
  {
   "cell_type": "markdown",
   "metadata": {},
   "source": [
    "Para acceder a los elementos de un diccionario se deberán usar las llaves correspondientes"
   ]
  },
  {
   "cell_type": "code",
   "execution_count": null,
   "metadata": {},
   "outputs": [],
   "source": [
    "midict['tiempo']"
   ]
  },
  {
   "cell_type": "markdown",
   "metadata": {},
   "source": [
    "De la misma forma, podemos cambiar el valor asociado con una llave"
   ]
  },
  {
   "cell_type": "code",
   "execution_count": null,
   "metadata": {},
   "outputs": [],
   "source": [
    "midict['tiempo'] = '2019-01-01'\n",
    "print(midict)"
   ]
  },
  {
   "cell_type": "markdown",
   "metadata": {},
   "source": [
    "Los diccionarios son utiles para guardar parametros a colocar dentro de una función, ayudando a mantener el orden y la legibilidad del código."
   ]
  }
 ],
 "metadata": {
  "kernelspec": {
   "display_name": "Python 3",
   "language": "python",
   "name": "python3"
  },
  "language_info": {
   "codemirror_mode": {
    "name": "ipython",
    "version": 3
   },
   "file_extension": ".py",
   "mimetype": "text/x-python",
   "name": "python",
   "nbconvert_exporter": "python",
   "pygments_lexer": "ipython3",
   "version": "3.6.7"
  }
 },
 "nbformat": 4,
 "nbformat_minor": 4
}
