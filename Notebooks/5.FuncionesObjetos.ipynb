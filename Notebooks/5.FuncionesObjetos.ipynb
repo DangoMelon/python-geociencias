{
 "cells": [
  {
   "cell_type": "markdown",
   "metadata": {},
   "source": [
    "# 5. Funciones y Objetos\n",
    "\n",
    "## 5.1 Funciones\n",
    "\n",
    "Conforme se vaya trabajando en un script para alguna operación especifica, se darán cuenta que corregir errores se vuelve mas tedioso cuando todo esta escrito sin un orden en concreto. Las funciones nos ayudan a mantener nuestro código ordenado manteniendo ciertas operaciones agrupadas.\n",
    "\n",
    "Para definir una función se usara la siguiente sintaxis:\n",
    "\n",
    "```python\n",
    "def <función>(<parametros>):\n",
    "    <bloque>\n",
    "    return <variables>\n",
    "```\n",
    "\n",
    "Como podemos observar, en la declaración de la función se agregan paréntesis `()` los cuales serviran de indicador para los parámetros que esta función acepte. Cabe notar que no es necesario que nuestra funcion retorne algo al usar `return`, simplemente podemos obviar esa línea"
   ]
  },
  {
   "cell_type": "code",
   "execution_count": null,
   "metadata": {},
   "outputs": [],
   "source": [
    "def suma(x, y):\n",
    "    return x + y\n",
    "\n",
    "suma(4, 5)"
   ]
  },
  {
   "cell_type": "code",
   "execution_count": null,
   "metadata": {},
   "outputs": [],
   "source": [
    "def factorial(n):\n",
    "    if n == 0:\n",
    "        return 1\n",
    "    else:\n",
    "        fact=1\n",
    "        for i in range(1,n+1):\n",
    "            fact = fact*i\n",
    "        return fact"
   ]
  },
  {
   "cell_type": "code",
   "execution_count": null,
   "metadata": {},
   "outputs": [],
   "source": [
    "factorial(4)"
   ]
  },
  {
   "cell_type": "markdown",
   "metadata": {},
   "source": [
    "**Practicando**\n",
    "\n",
    "El parámetro de Rossby se define como la variación meridional de la fuerza de Coriolis debido a la forma esférica de la tierra. Se calcula mediante la siguiente formula\n",
    "\n",
    "$$\n",
    "\\beta = \\frac{\\partial f}{\\partial y} = \\frac{1}{r_e}\\frac{d}{d\\phi}(2\\omega sin\\phi) = \\frac{2\\omega cos\\phi}{r_e}\n",
    "$$\n",
    "\n",
    "Donde $r_e$ es el radio medio de la tierra, $\\omega$ es la velocidad angular de la tierra y $\\phi$ es la latitud. Crear una función que permita obtener el parámetro de Rossby a una latitud dada.\n",
    "\n",
    "\n",
    "_Nota_:\n",
    "\n",
    "$r_e = 6.371222x10^6 m$\n",
    "\n",
    "$\\omega=7.2921159x10^{-5} rad/s$"
   ]
  },
  {
   "cell_type": "code",
   "execution_count": null,
   "metadata": {},
   "outputs": [],
   "source": [
    "# Resolver"
   ]
  },
  {
   "cell_type": "markdown",
   "metadata": {},
   "source": [
    "Las funciones pueden retornar multiples valores"
   ]
  },
  {
   "cell_type": "code",
   "execution_count": null,
   "metadata": {},
   "outputs": [],
   "source": [
    "import numpy as np\n",
    "\n",
    "def stats(array):\n",
    "    \"\"\"\n",
    "    Esta función retorna información acerca del\n",
    "    ndarray pasado como argumento\n",
    "    \n",
    "    Parametros\n",
    "    ----------\n",
    "    array : ndarray\n",
    "        Arreglo ndimensional de numpy\n",
    "        \n",
    "    Retorna\n",
    "    -------\n",
    "    tamaño\n",
    "    \"\"\"\n",
    "    return array.size, array.shape, np.mean(array), np.std(array)\n",
    "\n",
    "datos = np.random.rand(3,5,6)\n",
    "\n",
    "size, shape, mean, std = stats(datos)\n",
    "print(f\"Se obtuvo la siguiente informacion:\\n -Tamaño: {size}\\n -Forma: {shape}\\n -Promedio: {mean}\\n -Desviación Estandar: {std}\")"
   ]
  },
  {
   "cell_type": "markdown",
   "metadata": {},
   "source": [
    "## 5.2 Objetos\n",
    "\n",
    "A lo largo de todas las sesiones hemos aprendido que en python todo es un objeto, pero ¿que es un objeto en si?. Se llama un objeto en python un tipo de estructura que encapsula un conjunto de variables y funciones que guardan correlación con el objeto definido. Estos objetos son facilmente creados usando clases en python las cuales sirven como estructura base.\n",
    "\n",
    "Una clase se define con la siguiente sintaxis\n",
    "\n",
    "```python\n",
    "class <clase>:\n",
    "    <atributos>\n",
    "    \n",
    "    def <metodos>(self,<argumentos>):\n",
    "        <bloque>\n",
    "        \n",
    "```\n",
    "\n",
    "Todo es más entendible cuando vemos un ejemplo."
   ]
  },
  {
   "cell_type": "code",
   "execution_count": null,
   "metadata": {},
   "outputs": [],
   "source": [
    "class Casa:\n",
    "    color = 'azul'\n",
    "    def pintar(self, nuevo_color):\n",
    "        self.color = nuevo_color"
   ]
  },
  {
   "cell_type": "code",
   "execution_count": null,
   "metadata": {},
   "outputs": [],
   "source": [
    "casa1 = Casa()\n",
    "print(casa1.color)\n",
    "casa1.pintar('rojo')\n",
    "print(casa1.color)"
   ]
  },
  {
   "cell_type": "markdown",
   "metadata": {},
   "source": [
    "Esto lo podemos extender usando el constructor `__init__` el cual asigna un estado inicial a nuestro objeto"
   ]
  },
  {
   "cell_type": "code",
   "execution_count": null,
   "metadata": {},
   "outputs": [],
   "source": [
    "class Persona:\n",
    "    def __init__(self, nombre, edad, salario):\n",
    "        self.nombre = nombre\n",
    "        self.edad = edad\n",
    "        self.salario = salario\n",
    "        \n",
    "    def saludo(self):\n",
    "        print(f\"Hola! mi nombre es {self.nombre}\")"
   ]
  },
  {
   "cell_type": "code",
   "execution_count": null,
   "metadata": {},
   "outputs": [],
   "source": [
    "p1 = Persona('Pedro', 20, 3000)\n",
    "p1.saludo()"
   ]
  },
  {
   "cell_type": "code",
   "execution_count": null,
   "metadata": {},
   "outputs": [],
   "source": []
  }
 ],
 "metadata": {
  "kernelspec": {
   "display_name": "Python 3",
   "language": "python",
   "name": "python3"
  },
  "language_info": {
   "codemirror_mode": {
    "name": "ipython",
    "version": 3
   },
   "file_extension": ".py",
   "mimetype": "text/x-python",
   "name": "python",
   "nbconvert_exporter": "python",
   "pygments_lexer": "ipython3",
   "version": "3.6.7"
  }
 },
 "nbformat": 4,
 "nbformat_minor": 4
}
