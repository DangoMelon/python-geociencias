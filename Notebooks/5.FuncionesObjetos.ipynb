{
 "cells": [
  {
   "cell_type": "markdown",
   "metadata": {},
   "source": [
    "# 5. Funciones y Objetos\n",
    "\n",
    "## 5.1 Funciones\n",
    "\n",
    "Conforme se vaya trabajando en un script para alguna operación especifica, se darán cuenta que corregir errores se vuelve mas tedioso cuando todo esta escrito sin un orden en concreto. Las funciones nos ayudan a mantener nuestro código ordenado manteniendo ciertas operaciones agrupadas.\n",
    "\n",
    "Para definir una función se usara la siguiente sintaxis:\n",
    "\n",
    "```python\n",
    "def <función>(<parametros>):\n",
    "    <bloque>\n",
    "    return <variables>\n",
    "```\n",
    "\n",
    "Como podemos observar, en la declaración de la función se agregan paréntesis `()` los cuales serviran de indicador para los parámetros que esta función acepte. Cabe notar que no es necesario que nuestra funcion retorne algo al usar `return`, simplemente podemos obviar esa línea"
   ]
  },
  {
   "cell_type": "code",
   "execution_count": null,
   "metadata": {},
   "outputs": [],
   "source": [
    "def suma(x, y):\n",
    "    return x + y\n",
    "\n",
    "suma(4, 5)"
   ]
  },
  {
   "cell_type": "code",
   "execution_count": null,
   "metadata": {},
   "outputs": [],
   "source": [
    "def factorial(n):\n",
    "    if n == 0:\n",
    "        return 1\n",
    "    else:\n",
    "        fact=1\n",
    "        for i in range(1,n+1):\n",
    "            fact = fact*i\n",
    "        return fact"
   ]
  },
  {
   "cell_type": "code",
   "execution_count": null,
   "metadata": {},
   "outputs": [],
   "source": [
    "factorial(4)"
   ]
  },
  {
   "cell_type": "markdown",
   "metadata": {},
   "source": [
    "**Practicando**\n",
    "\n",
    "El parámetro de Rossby se define como la variación meridional de la fuerza de Coriolis debido a la forma esférica de la tierra. Se calcula mediante la siguiente formula\n",
    "\n",
    "$$\n",
    "\\beta = \\frac{\\partial f}{\\partial y} = \\frac{1}{r_e}\\frac{d}{d\\phi}(2\\omega sin\\phi) = \\frac{2\\omega cos\\phi}{r_e}\n",
    "$$\n",
    "\n",
    "Donde $r_e$ es el radio medio de la tierra, $\\omega$ es la velocidad angular de la tierra y $\\phi$ es la latitud. Crear una función que permita obtener el parámetro de Rossby a una latitud dada.\n",
    "\n",
    "\n",
    "_Nota_:\n",
    "\n",
    "$r_e = 6.371222x10^6 m$\n",
    "\n",
    "$\\omega=7.2921159x10^{-5} rad/s$"
   ]
  },
  {
   "cell_type": "code",
   "execution_count": null,
   "metadata": {},
   "outputs": [],
   "source": [
    "# Resolver"
   ]
  },
  {
   "cell_type": "markdown",
   "metadata": {},
   "source": [
    "Las funciones pueden retornar multiples valores"
   ]
  },
  {
   "cell_type": "code",
   "execution_count": null,
   "metadata": {},
   "outputs": [],
   "source": [
    "import numpy as np\n",
    "\n",
    "def stats(array):\n",
    "    \"\"\"\n",
    "    Esta función retorna información acerca del\n",
    "    ndarray pasado como argumento\n",
    "    \n",
    "    Parametros\n",
    "    ----------\n",
    "    array : ndarray\n",
    "        Arreglo ndimensional de numpy\n",
    "        \n",
    "    Retorna\n",
    "    -------\n",
    "    tamaño: int\n",
    "    forma: tuple\n",
    "    media: float\n",
    "    desviacion estandar: float\n",
    "    \"\"\"\n",
    "    return array.size, array.shape, np.mean(array), np.std(array)\n",
    "\n",
    "datos = np.random.rand(3,5,6)\n",
    "\n",
    "size, shape, mean, std = stats(datos)\n",
    "print(f\"Se obtuvo la siguiente informacion:\\n -Tamaño: {size}\\n -Forma: {shape}\\n -Promedio: {mean}\\n -Desviación Estandar: {std}\")"
   ]
  },
  {
   "cell_type": "markdown",
   "metadata": {},
   "source": [
    "Las funciones pueden extenderse usando la notación _asterisco_ que tiene python."
   ]
  },
  {
   "cell_type": "code",
   "execution_count": null,
   "metadata": {},
   "outputs": [],
   "source": [
    "def myfunc(pos, *args, **kwargs):\n",
    "    print(\"Estos son argumentos posicionales obligatorios:\\n\",pos)\n",
    "    print(\"\\nEstos son argumentos posicionales adicionales:\")\n",
    "    for arg in args:\n",
    "        print(arg)\n",
    "    print(\"\\nEstos son keywords args:\")\n",
    "    for k,v in kwargs.items():\n",
    "        print(k,v)\n",
    "        \n",
    "myfunc(1,'a', 2, 4, hola=2, chau='hola')"
   ]
  },
  {
   "cell_type": "markdown",
   "metadata": {},
   "source": [
    "Nuestra función es capaz de aceptar ahora cualquier cantidad de argumentos tanto posicionales como con nombre"
   ]
  },
  {
   "cell_type": "code",
   "execution_count": null,
   "metadata": {},
   "outputs": [],
   "source": [
    "def suma(*args):\n",
    "    suma=0\n",
    "    for arg in args:\n",
    "        suma += arg\n",
    "    return suma"
   ]
  },
  {
   "cell_type": "markdown",
   "metadata": {},
   "source": [
    "## 5.2 Objetos\n",
    "\n",
    "A lo largo de todas las sesiones hemos aprendido que en python todo es un objeto, pero ¿que es un objeto en si?. Se llama un objeto en python un tipo de estructura que encapsula un conjunto de variables y funciones que guardan correlación con el objeto definido. Estos objetos son facilmente creados usando clases en python las cuales sirven como estructura base.\n",
    "\n",
    "Una clase se define con la siguiente sintaxis\n",
    "\n",
    "```python\n",
    "class <clase>:\n",
    "    <atributos>\n",
    "    \n",
    "    def <metodos>(self,<argumentos>):\n",
    "        <bloque>\n",
    "        \n",
    "```\n",
    "\n",
    "Todo es más entendible cuando vemos un ejemplo."
   ]
  },
  {
   "cell_type": "code",
   "execution_count": null,
   "metadata": {},
   "outputs": [],
   "source": [
    "class Casa:\n",
    "    color = 'azul'\n",
    "    def pintar(self, nuevo_color):\n",
    "        self.color = nuevo_color"
   ]
  },
  {
   "cell_type": "code",
   "execution_count": null,
   "metadata": {},
   "outputs": [],
   "source": [
    "casa1 = Casa()\n",
    "print(casa1.color)\n",
    "casa1.pintar('rojo')\n",
    "print(casa1.color)"
   ]
  },
  {
   "cell_type": "markdown",
   "metadata": {},
   "source": [
    "Esto lo podemos extender usando el constructor `__init__` el cual asigna un estado inicial a nuestro objeto"
   ]
  },
  {
   "cell_type": "code",
   "execution_count": null,
   "metadata": {},
   "outputs": [],
   "source": [
    "class Persona:\n",
    "    def __init__(self, nombre, edad, salario):\n",
    "        self.nombre = nombre\n",
    "        self.edad = edad\n",
    "        self.salario = salario\n",
    "        \n",
    "    def saludo(self):\n",
    "        print(f\"Hola! mi nombre es {self.nombre}\")"
   ]
  },
  {
   "cell_type": "code",
   "execution_count": null,
   "metadata": {},
   "outputs": [],
   "source": [
    "p1 = Persona('Pedro', 20, 3000)\n",
    "p1.saludo()"
   ]
  },
  {
   "cell_type": "markdown",
   "metadata": {},
   "source": [
    "# Ejemplos"
   ]
  },
  {
   "cell_type": "markdown",
   "metadata": {},
   "source": [
    "Las clases y funciones nos ayudan a evitar repetir partes de nuestro codigo una y otra vez. Un ejemplo sería el código que siempre tenemos que colocar para darle formato a las latitudes y longitudes al momento de usar Cartopy, toda esta lógica la podríamos contener dentro de una función que se encarge de darle el estilo que deseamos"
   ]
  },
  {
   "cell_type": "code",
   "execution_count": null,
   "metadata": {},
   "outputs": [],
   "source": [
    "def format_latlon(ax, proj):\n",
    "    from cartopy.mpl.ticker import LongitudeFormatter, LatitudeFormatter\n",
    "    \n",
    "    lon_formatter = LongitudeFormatter()\n",
    "    lat_formatter = LatitudeFormatter()\n",
    "    \n",
    "    ax.set_xticks(np.arange(-180,180,20), crs=proj)\n",
    "    ax.set_yticks(np.arange(-90,90,10), crs=proj)\n",
    "    \n",
    "    ax.xaxis.set_major_formatter(lon_formatter)\n",
    "    ax.yaxis.set_major_formatter(lat_formatter)\n",
    "    return ax"
   ]
  },
  {
   "cell_type": "code",
   "execution_count": null,
   "metadata": {},
   "outputs": [],
   "source": [
    "import matplotlib.pyplot as plt\n",
    "import cartopy.crs as ccrs\n",
    "import numpy as np\n",
    "\n",
    "%matplotlib inline\n",
    "\n",
    "lat = np.arange(-15,15.1,2.5)\n",
    "lon = np.arange(140,280.1,2.5)\n",
    "\n",
    "data = np.random.randn(lat.size, lon.size)\n",
    "lon, lat = np.meshgrid(lon, lat)\n",
    "\n",
    "proj = ccrs.PlateCarree(central_longitude=180)\n",
    "trans = ccrs.PlateCarree()\n",
    "\n",
    "fig, ax = plt.subplots(subplot_kw={'projection': proj})\n",
    "ax.pcolormesh(lon, lat, data, transform=trans)\n",
    "ax = format_latlon(ax, trans)\n",
    "ax.set_extent([140,280,-15,15],crs=trans)"
   ]
  },
  {
   "cell_type": "markdown",
   "metadata": {},
   "source": [
    "Usando clases podemos extender aun mas nuestros gráficos"
   ]
  },
  {
   "cell_type": "code",
   "execution_count": null,
   "metadata": {},
   "outputs": [],
   "source": [
    "import cartopy.crs as ccrs\n",
    "\n",
    "class Pacific_plot:\n",
    "    def __init__(self,\n",
    "                 lon,\n",
    "                 lat,\n",
    "                 data,\n",
    "                 proj=ccrs.PlateCarree(central_longitude=180),\n",
    "                 trans=ccrs.PlateCarree()\n",
    "                ):\n",
    "        self.data = data\n",
    "        self.lon = lon\n",
    "        self.lat = lat\n",
    "        self.proj = proj\n",
    "        self.trans = trans\n",
    "        self.setup_canvas()\n",
    "    \n",
    "    def format_latlon(self):\n",
    "        from cartopy.mpl.ticker import LongitudeFormatter, LatitudeFormatter\n",
    "\n",
    "        lon_formatter = LongitudeFormatter()\n",
    "        lat_formatter = LatitudeFormatter()\n",
    "\n",
    "        self.ax.set_xticks(np.arange(-180,180,20), crs=ccrs.PlateCarree())\n",
    "        self.ax.set_yticks(np.arange(-90,90,10), crs=ccrs.PlateCarree())\n",
    "\n",
    "        self.ax.xaxis.set_major_formatter(lon_formatter)\n",
    "        self.ax.yaxis.set_major_formatter(lat_formatter)\n",
    "    \n",
    "    def setup_canvas(self):\n",
    "        self.fig, self.ax = plt.subplots(subplot_kw={'projection': self.proj})\n",
    "    \n",
    "    def set_extent(self, *args, glob=False, **kwargs):\n",
    "        if glob:\n",
    "            self.ax.set_global()\n",
    "        else:\n",
    "            self.ax.set_extent(*args, **kwargs)\n",
    "        \n",
    "    def plot(self, **kwargs):\n",
    "        self.ax.pcolormesh(self.lon, self.lat, data, transform=self.trans, **kwargs)\n",
    "        self.ax.gridlines(linestyle='--')\n",
    "        "
   ]
  },
  {
   "cell_type": "code",
   "execution_count": null,
   "metadata": {},
   "outputs": [],
   "source": [
    "pacf = Pacific_plot(lon, lat, data)\n",
    "pacf.format_latlon()\n",
    "# pacf.set_extent(glob=True)\n",
    "pacf.plot()"
   ]
  }
 ],
 "metadata": {
  "kernelspec": {
   "display_name": "Python 3",
   "language": "python",
   "name": "python3"
  },
  "language_info": {
   "codemirror_mode": {
    "name": "ipython",
    "version": 3
   },
   "file_extension": ".py",
   "mimetype": "text/x-python",
   "name": "python",
   "nbconvert_exporter": "python",
   "pygments_lexer": "ipython3",
   "version": "3.7.3"
  }
 },
 "nbformat": 4,
 "nbformat_minor": 4
}
