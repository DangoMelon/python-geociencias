{
 "cells": [
  {
   "cell_type": "markdown",
   "metadata": {},
   "source": [
    "# 3. Estructuras de Control\n",
    "\n",
    "Las estructuras de control en python son similares a los encontrados en varios lenguajes de programación. Entre estos tenemos `if`/`else`, `for` y `while`\n",
    "\n",
    "## Tener en cuenta\n",
    "- En Python la **indentación es super importante** - los espacios al inicio de una linea de comandos determinan el bloque al que pertenece"
   ]
  },
  {
   "cell_type": "markdown",
   "metadata": {},
   "source": [
    "## `If`/`else`"
   ]
  },
  {
   "cell_type": "markdown",
   "metadata": {},
   "source": [
    "Esta estructura de control de flujo evalua un booleano retornado por una condición para acceder a un bloque de comandos. El uso de la sentencia condicional `if` es como sigue\n",
    "\n",
    "```python\n",
    "if <condicion>:\n",
    "    <bloque>\n",
    "elif <condicion>:\n",
    "    <bloque>\n",
    "else:\n",
    "    <bloque>\n",
    "```"
   ]
  },
  {
   "cell_type": "code",
   "execution_count": null,
   "metadata": {},
   "outputs": [],
   "source": [
    "x = 10\n",
    "if x > 3:\n",
    "    print(\"x es mayor que 3\")\n",
    "else:\n",
    "    print(\"x es menor que 3\")"
   ]
  },
  {
   "cell_type": "markdown",
   "metadata": {},
   "source": [
    "Programar en python es como si se estuviera conversando con la computadora y esto se puede notar con los siguientes operadores: `in`, `not`, `and`, `or`\n",
    "\n",
    "- ### `in`\n",
    "Este operador nos permitirá evaluar si un elemento se encuentra incluido dentro de otro"
   ]
  },
  {
   "cell_type": "code",
   "execution_count": null,
   "metadata": {},
   "outputs": [],
   "source": [
    "compras = [\"peras\", \"manzanas\", \"mandarinas\", \"uvas\", \"platano\"]\n",
    "\n",
    "if \"peras\" in compras: # esto evalua True porque peras si esta en compras\n",
    "    print(\"Compre muchas peras\")"
   ]
  },
  {
   "cell_type": "markdown",
   "metadata": {},
   "source": [
    "- ### not\n",
    "Este operador niega el bool obtenido, inviertendo el resultado."
   ]
  },
  {
   "cell_type": "code",
   "execution_count": null,
   "metadata": {},
   "outputs": [],
   "source": [
    "if \"peras\" not in compras: # esto evalua False porque peras si esta en compras\n",
    "    print(\"No compre peras\")\n",
    "elif \"mangos\" not in compras: # esto evalua True porque mangos no esta en compras\n",
    "    print(\"No compre mangos\")"
   ]
  },
  {
   "cell_type": "markdown",
   "metadata": {},
   "source": [
    "- ### and/or\n",
    "Ambos operadores sirven para evaluar dos o mas expresiones condicionales en una declaración `if`. En el caso de `and`, todas las condiciones tienen que cumplirse para pasar al bloque de ejecución; en el caso de `or`, deberá cumplirse al menos una"
   ]
  },
  {
   "cell_type": "code",
   "execution_count": null,
   "metadata": {},
   "outputs": [],
   "source": [
    "if \"peras\" in compras and \"manzanas\" in compras:\n",
    "    print(\"Se compraron peras y manzanas\")"
   ]
  },
  {
   "cell_type": "code",
   "execution_count": null,
   "metadata": {},
   "outputs": [],
   "source": [
    "if \"uvas\" in compras or \"cocona\" in compras:\n",
    "    print(\"Por lo menos un elemento fue encontrado\")"
   ]
  },
  {
   "cell_type": "markdown",
   "metadata": {},
   "source": [
    "**Practicando**\n",
    "\n",
    "ERA5 proporciona datos atmosféricos a distintos niveles de presión. Tenemos una lista con los niveles ofrecidos y queremos verificar si un nivel especifico se encuentra dentro de esta lista junto con la posición del nivel dentro de la lista. \n",
    "Tener en cuenta que esta lista no es muy larga asi que facilmente podría encontrar el nivel que busca, sin embargo esto sirve como ejemplo para su uso sobre objetos aun más extensos."
   ]
  },
  {
   "cell_type": "code",
   "execution_count": null,
   "metadata": {},
   "outputs": [],
   "source": [
    "press_lev = [1, 2, 3, 5, 7, 10, 20, 30, 50, 70, 100, 125, 150, 175, 200, 225, 250, 300, 350, 400, 450, 500, 550, 600, 650, 700, 750, 775, 800, 825, 850, 875, 900, 925, 950, 975, 1000]\n",
    "\n",
    "# ¿Se encuentra el nivel 10, 100 y 500? ¿Cuales son sus ubicaciones dentro de la lista? Hint: usar el método index para buscar la posicion de un elemento en una lista"
   ]
  },
  {
   "cell_type": "markdown",
   "metadata": {},
   "source": [
    "## `for`/`while`"
   ]
  },
  {
   "cell_type": "markdown",
   "metadata": {},
   "source": [
    "Este tipo de esctructura para control de flujos es la generadora de procesos iterativos sobre un set de datos. La sintaxis para su uso es la siguiente:\n",
    "\n",
    "- #### `for` \n",
    "```python\n",
    "for item in <iterable>:\n",
    "    <bloque>\n",
    "```\n",
    "\n",
    "- #### `while`\n",
    "```python\n",
    "while <condicion>:\n",
    "    <bloque>\n",
    "```\n",
    "\n",
    "\n",
    "Para el caso de `for`, la ejecución se mantendrá hasta que se terminen los elementos iterables; para while, la ejecución continua hasta que la condición evaluada retorne `False`. Además, python cuenta con sentencias de control de flujo como `break`, `skip` y `pass` que resultan de cierta utilidad en estos bucles.\n",
    "\n",
    "_Nota:_ Si llega a generar un bucle infinito puede terminar la ejecución interrumpiendo el kernel."
   ]
  },
  {
   "cell_type": "markdown",
   "metadata": {},
   "source": [
    "Para hacer un uso más provechozo de los bucles sin necidad de estar alojando varias variables, se hará uso de `range`. Esta función generará una series de números acorde al (inicio, final, paso) especificados sobre el cual python es capaz de iterar."
   ]
  },
  {
   "cell_type": "code",
   "execution_count": null,
   "metadata": {},
   "outputs": [],
   "source": [
    "for i in range(4):\n",
    "    print(i)"
   ]
  },
  {
   "cell_type": "markdown",
   "metadata": {},
   "source": [
    "En el caso de `while`, la ejecución de los comandos dentro del bloque seguirá de manera indefinida hasta que la condición que evalúa el while para continuar sea `False`"
   ]
  },
  {
   "cell_type": "code",
   "execution_count": null,
   "metadata": {},
   "outputs": [],
   "source": [
    "x = 100\n",
    "while x>=0:\n",
    "    print(x)\n",
    "    x = x-20"
   ]
  },
  {
   "cell_type": "markdown",
   "metadata": {},
   "source": [
    "Python es capaz de iterar sobre los elementos de una estructura de manera directa sin necesidad de declara un indice que vaya incrementando con cada iteración"
   ]
  },
  {
   "cell_type": "code",
   "execution_count": null,
   "metadata": {},
   "outputs": [],
   "source": [
    "iter_lista = ['a', (3,4),'b', 'c', {'x':10}]\n",
    "\n",
    "for elm in iter_lista:\n",
    "    print(elm)"
   ]
  },
  {
   "cell_type": "markdown",
   "metadata": {},
   "source": [
    "En caso se quiera iterar sobre un diccionario, existen formas de iterar solo en las llaves o solo en los valores. Para esto se hace uso de los métodos `items`, `values` y `keys`"
   ]
  },
  {
   "cell_type": "code",
   "execution_count": null,
   "metadata": {},
   "outputs": [],
   "source": [
    "midict = {'est':[1,2,3,4,5,6,7], \n",
    "          'dir':['north','south','south','south','east','north','west'],\n",
    "          'val':[10,-30,-20,-40,23,50,20]}\n",
    "\n",
    "for key, val in midict.items():\n",
    "    print(f\"La llave del diccionario {key} tiene los siguientes valores: {val}\")"
   ]
  },
  {
   "cell_type": "code",
   "execution_count": null,
   "metadata": {},
   "outputs": [],
   "source": [
    "for key in midict.keys():\n",
    "    print(f\"Se encontró la llave {key} en el diccionario\")"
   ]
  },
  {
   "cell_type": "code",
   "execution_count": null,
   "metadata": {},
   "outputs": [],
   "source": [
    "for val in midict.values():\n",
    "    print(f\"Se encontraron datos dentro de una llave: {val}\")"
   ]
  },
  {
   "cell_type": "markdown",
   "metadata": {},
   "source": [
    "### Combinando lo anterior"
   ]
  },
  {
   "cell_type": "markdown",
   "metadata": {},
   "source": [
    "Los procesos iterativos sobre diccionarios resultan ser de gran utilidad. A continuación se coloca un ejemplo de como sería un uso común."
   ]
  },
  {
   "cell_type": "code",
   "execution_count": null,
   "metadata": {},
   "outputs": [],
   "source": [
    "print(midict) # imprimo el diccionario solo para ver su contenido\n",
    "\n",
    "for key, val in midict.items():\n",
    "    if key == 'dir':\n",
    "        print(f\"Se encontraron las siguientes direcciones {set(val)}\")"
   ]
  },
  {
   "cell_type": "markdown",
   "metadata": {},
   "source": [
    "**Practicando**\n",
    "\n",
    "Se nos provee un diccionario con el nombre de la variable como llave y los niveles de presión a los cuales estan disponibles como valores. Quisieramos saber que variables se encuentran disponibles a 700hPa por lo que se le pide implementar una forma de hacer la verificación"
   ]
  },
  {
   "cell_type": "code",
   "execution_count": null,
   "metadata": {},
   "outputs": [],
   "source": [
    "myvars = {\n",
    "    \"Divergence\": [1, 2, 3, 5, 7, 10, 20, 30, 50, 70, 100, 125, 150, 175, 200, 225, 250, 300, 800, 825, 850, 875, 900, 925, 950, 975, 1000],\n",
    "    \"Fraction_of_cloud_cover\": [150, 175, 200, 225, 250, 300, 350, 400, 450, 500, 550, 600, 650, 700, 750, 775, 800, 825, 850, 875, 900, 925, 950, 975, 1000],\n",
    "    \"Geopotential\": [1, 2, 3, 5, 7, 10, 20, 30, 50, 70, 100, 125, 150, 175, 200, 700, 750, 775, 800, 825, 850, 875, 900, 925, 950, 975, 1000],\n",
    "    \"Ozone_mass_mixing_ratio\": [20, 30, 50, 70, 100, 125, 150, 175, 200, 225, 250, 300, 350, 400, 450, 500, 550, 825, 850, 875, 900, 925, 950, 975, 1000],\n",
    "    \"Potential_vorticity\": [1, 2, 3, 5, 7, 10, 20, 30, 50, 70, 100, 125, 150, 175, 200, 225, 250, 300, 350, 400, 450, 500, 550, 600, 650, 700, 925, 950, 975, 1000],\n",
    "    \"Relative_humidity\": [1, 2, 3, 5, 7, 10, 20, 30, 50, 70, 100, 125, 150, 175, 200, 225, 250, 300, 350, 400, 450, 500, 550, 600, 650, 1000],\n",
    "    \"Specific_cloud_ice_water_content\": [1, 2, 150, 175, 200, 225, 250, 300, 350, 400, 450, 500, 550, 600, 650, 700, 750, 775, 800, 825],\n",
    "    \"Specific_cloud_liquid_water_content\": [1, 2, 3, 5, 7, 10, 20, 30, 50, 70, 100, 125, 150, 175, 200, 225, 250, 300, 350, 400, 450, 500, 900, 925, 950, 975, 1000],\n",
    "    \"Specific_humidity\": [1, 2, 3, 5, 7, 10, 20, 30, 50, 350, 400, 450, 500, 550, 600, 650, 700, 750, 775, 800, 825, 850, 875, 900, 925, 950, 975, 1000],\n",
    "    \"Specific_rain_water_content\": [1, 2, 3, 5, 7, 10, 20, 30, 50, 70, 100, 125, 150, 175, 200, 225, 250, 300, 350, 400, 450, 500, 950, 975, 1000],\n",
    "    \"Specific_snow_water_content\": [1, 2, 3, 5, 7, 10, 20, 300, 350, 400, 450, 500, 550, 600, 650, 700, 750, 775, 800, 825, 850, 875, 900, 925, 950, 975, 1000],\n",
    "    \"Temperature\": [1, 2, 3, 5, 7, 10, 20, 30, 50, 400, 450, 500, 550, 600, 650, 700, 750, 775, 800, 825, 850, 875, 900, 925, 950, 975, 1000],\n",
    "    \"U-component_of_wind\": [1, 2, 3, 5, 7, 10, 20, 30, 50, 70, 100, 125, 150, 175, 200, 225, 250, 300, 350, 400, 450, 500, 550, 600, 650],\n",
    "    \"V-component_of_wind\": [1, 2, 3, 5, 7, 10, 20, 30, 50, 70, 100, 125, 150, 175, 200, 225, 250, 300, 775, 800, 825, 850, 875, 900, 925, 950, 975, 1000],\n",
    "    \"Vertical_velocity\": [1, 2, 3, 5, 7, 10, 20, 30, 50, 70, 100, 125, 150, 175, 200, 225, 250, 300, 350, 400, 450, 500, 550, 600, 650],\n",
    "    \"Vorticity_(relative)\": [1, 2, 3, 5, 7, 10, 20, 30, 50, 70, 100, 125, 150, 175, 200, 225, 250, 300, 350, 400, 450, 500, 550, 875, 900, 925, 950, 975, 1000],\n",
    "    }"
   ]
  }
 ],
 "metadata": {
  "kernelspec": {
   "display_name": "Python 3",
   "language": "python",
   "name": "python3"
  },
  "language_info": {
   "codemirror_mode": {
    "name": "ipython",
    "version": 3
   },
   "file_extension": ".py",
   "mimetype": "text/x-python",
   "name": "python",
   "nbconvert_exporter": "python",
   "pygments_lexer": "ipython3",
   "version": "3.7.3"
  }
 },
 "nbformat": 4,
 "nbformat_minor": 4
}
