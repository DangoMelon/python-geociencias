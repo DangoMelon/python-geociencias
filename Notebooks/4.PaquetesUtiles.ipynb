{
 "cells": [
  {
   "cell_type": "markdown",
   "metadata": {},
   "source": [
    "# 3. Paquetes útiles\n",
    "\n",
    "Python extiende sus capacidades mediante la importación de paquetes. Los paquetes en los que nos centraremos ahora serán `numpy`, para el manejo de datos n-dimensionales y operaciones vectorizadas; `pandas`, para el manejo de datos tabulares y series de tiempo; y matplotlib, para realizar gráficos de nuestros datos"
   ]
  },
  {
   "cell_type": "markdown",
   "metadata": {},
   "source": [
    "## 3.1 Numpy\n",
    "Numpy es el paquete fundamental de python para cualquier tipo de cálculo científico a realizar. En comparación al módulo `math` de la libreria estandar de Python, `numpy` es capaz de operar sobre arreglos n-dimensionales de manera eficiente. Para más detalles pueden dirigirse a la página oficial de [Numpy](https://numpy.org/).\n",
    "\n",
    "La estructura básica de Numpy son los `ndarray`, que significa \"n dimensional array\", los cuales pueden ser construidos de diferentes formas. Revisaremos los métodos más convenientes para crear un `ndarray` y realizar operaciones con ellos"
   ]
  },
  {
   "cell_type": "code",
   "execution_count": null,
   "metadata": {},
   "outputs": [],
   "source": [
    "import numpy as np"
   ]
  },
  {
   "cell_type": "markdown",
   "metadata": {},
   "source": [
    "- ### `np.array`\n",
    "Es la forma más simple de declarar un arreglo de numpy. Nos solicita como argumento algun elemento que tenga forma de arreglo (como las listas)."
   ]
  },
  {
   "cell_type": "code",
   "execution_count": null,
   "metadata": {},
   "outputs": [],
   "source": [
    "datos = [[3, 2, 5, 6, 1, 9, 5],\n",
    "         [0, -2, 5, 7, 3, 2, 6]]\n",
    "narr = np.array(datos)\n",
    "narr"
   ]
  },
  {
   "cell_type": "markdown",
   "metadata": {},
   "source": [
    "Una vez que tenemos un arreglo de numpy asignado a una variable, podemos obtener las propiedades del arreglo usando `ndim`, `shape`, `size`, `dtype`, entre otros."
   ]
  },
  {
   "cell_type": "code",
   "execution_count": null,
   "metadata": {},
   "outputs": [],
   "source": [
    "narr.ndim, narr.shape, narr.dtype"
   ]
  },
  {
   "cell_type": "markdown",
   "metadata": {},
   "source": [
    "- ### `np.zeros`, `np.ones`, `np.full`\n",
    "Estas funciones retornarán arreglos de numpy llenos de zeros (`np.zeros`), unos (`np.ones`) o del numero que quisieramos (`np.full`). Las tres funciones nos solicitan que pasemos las dimensiones del arreglo de salida en forma de una tupla `(nx, ny, nz, ...)`"
   ]
  },
  {
   "cell_type": "code",
   "execution_count": null,
   "metadata": {},
   "outputs": [],
   "source": [
    "np.zeros((4, 5))"
   ]
  },
  {
   "cell_type": "code",
   "execution_count": null,
   "metadata": {},
   "outputs": [],
   "source": [
    "np.ones((6, 2))"
   ]
  },
  {
   "cell_type": "code",
   "execution_count": null,
   "metadata": {},
   "outputs": [],
   "source": [
    "np.full((4, 6), 9)"
   ]
  },
  {
   "cell_type": "markdown",
   "metadata": {},
   "source": [
    "- ### `np.eye`\n",
    "Esta función sirve para crear la matriz identidad `I`. Al ser un arreglo cuadrado, lo único que nos pide esta función como parámetro es un número entero `n` para construir el arreglo `(n,n)`."
   ]
  },
  {
   "cell_type": "code",
   "execution_count": null,
   "metadata": {},
   "outputs": [],
   "source": [
    "np.eye(5)"
   ]
  },
  {
   "cell_type": "markdown",
   "metadata": {},
   "source": [
    "- ### `np.reshape`\n",
    "Esta función nos permite cambiar de forma nuestro arreglo mientras que la cantidad de elementos se conserve. Nos pide como argumento la nueva forma para el arreglo.\n",
    "Para obtener la cantidad de elementos de un arreglo de numpy se usa la propiedad `size`."
   ]
  },
  {
   "cell_type": "code",
   "execution_count": null,
   "metadata": {},
   "outputs": [],
   "source": [
    "A = np.zeros((10,8))\n",
    "print(f\"El arreglo A tiene {A.size} elementos y forma {A.shape}\")\n",
    "B = A.reshape((20,4))\n",
    "print(f\"El arreglo B tiene {B.size} elementos y forma {B.shape}\")"
   ]
  },
  {
   "cell_type": "markdown",
   "metadata": {},
   "source": [
    "- ### `np.arange`\n",
    "Similar a la función propia de python `range`, `np.arange` nos creará un arreglo de numeros espaciados regularmente dentro de un objeto de numpy. Para hacer uso de la función le podemos proporcionar tres argumentos (start, stop, step) o un solo valor (stop) en donde comenzará el arreglo desde 0 con espaciado 1. El arreglo de salida será 1-dimensional (detalles más adelante)"
   ]
  },
  {
   "cell_type": "code",
   "execution_count": null,
   "metadata": {},
   "outputs": [],
   "source": [
    "np.arange(19)"
   ]
  },
  {
   "cell_type": "code",
   "execution_count": null,
   "metadata": {},
   "outputs": [],
   "source": [
    "np.arange(2, 100, 2)"
   ]
  },
  {
   "cell_type": "code",
   "execution_count": null,
   "metadata": {},
   "outputs": [],
   "source": [
    "np.arange(-90, 90, 0.125) # el espaciado puede ser decimal"
   ]
  },
  {
   "cell_type": "markdown",
   "metadata": {},
   "source": [
    "- ### `np.linspace`\n",
    "Similar a `np.arange`, tambien creará una serie de elementos en un objeto de numpy, la diferencia está en que generará la cantidad de elementos que solicitemos espaciados regularmente, sin necesidad de especificar los _step_"
   ]
  },
  {
   "cell_type": "code",
   "execution_count": null,
   "metadata": {},
   "outputs": [],
   "source": [
    "np.linspace(10, 15, 7) # Queremos 7 numeros que esten entre 10 y 15"
   ]
  },
  {
   "cell_type": "code",
   "execution_count": null,
   "metadata": {},
   "outputs": [],
   "source": [
    "np.linspace(-15,15,30) # 30 elementos entre -15 y 15"
   ]
  },
  {
   "cell_type": "markdown",
   "metadata": {},
   "source": [
    "- ### `np.meshgrid`\n",
    "Esta función generará un malla proveniente de dos vectores bases. Esto es util cuando se quiere generar pares ordenados de lon/lat."
   ]
  },
  {
   "cell_type": "code",
   "execution_count": null,
   "metadata": {},
   "outputs": [],
   "source": [
    "x = np.arange(2, 6, 0.5)\n",
    "y = np. arange(10, 18, 2)\n",
    "\n",
    "print(f\"x es : {x}\")\n",
    "print(f\"y es : {y}\")\n",
    "\n",
    "xx, yy = np.meshgrid(x, y)"
   ]
  },
  {
   "cell_type": "code",
   "execution_count": null,
   "metadata": {},
   "outputs": [],
   "source": [
    "xx"
   ]
  },
  {
   "cell_type": "code",
   "execution_count": null,
   "metadata": {},
   "outputs": [],
   "source": [
    "yy"
   ]
  },
  {
   "cell_type": "markdown",
   "metadata": {},
   "source": [
    "- ### `np.full_like`, `np.ones_like`, `np.zeros_like`\n",
    "Estas funciones nos permitiran crear arreglos que cuenten con igual forma al arreglo que le proporcionamos"
   ]
  },
  {
   "cell_type": "code",
   "execution_count": null,
   "metadata": {},
   "outputs": [],
   "source": [
    "A = np.arange(20).reshape(5,4)\n",
    "print(A)\n",
    "print(\"\\nones_like:\\n\",np.ones_like(A))\n",
    "print(\"\\nzeros_like:\\n\",np.zeros_like(A))\n",
    "print(\"\\nfull_like:\\n\",np.full_like(A, -4))"
   ]
  },
  {
   "cell_type": "markdown",
   "metadata": {},
   "source": [
    "### Operaciones entre arreglos de numpy\n",
    "Desde las operaciones básicas hasta las más complejas, numpy hace uso del _broadcasting_ el cual permite operar en arreglos de distintas dimensiones, replicando el arreglo de menor dimension hasta emparejar el arreglo de mayor dimensión."
   ]
  },
  {
   "cell_type": "markdown",
   "metadata": {},
   "source": [
    "#### ⚠ Cuidado con los arreglos 1-dimensionales 💀\n",
    "Numpy tiene una particularidad cuando empezamos a tratar datos de varias dimensiones. Para entender esto, vamos a verificar las dimensiones de un arreglo generado por `np.arange`"
   ]
  },
  {
   "cell_type": "code",
   "execution_count": null,
   "metadata": {},
   "outputs": [],
   "source": [
    "C = np.arange(10)\n",
    "print(f\"El arreglo C es {C}\\n y tiene forma {C.shape}\")"
   ]
  },
  {
   "cell_type": "markdown",
   "metadata": {},
   "source": [
    "A simple vista parece un vector que tiene 1 fila y 100 columnas, i.e. forma (1,100), pero al verificar la forma usando `shape` vemos que numpy lo reconoce como un arreglo de forma (100,). El conteo de dimensiones muestra que nuestro arreglo tiene 1 dimensión"
   ]
  },
  {
   "cell_type": "code",
   "execution_count": null,
   "metadata": {},
   "outputs": [],
   "source": [
    "C.ndim"
   ]
  },
  {
   "cell_type": "markdown",
   "metadata": {},
   "source": [
    "Esto puede introducir ciertos errores al momento de realizar operaciones con arreglos de más dimensiones o puede otorgar resultados inesperados. Un ejemplo sería el calculo de la transpuesta para nuestro arreglo C. Lo que se esperaría es que nos retorne una columna, sin embargo esto no sucede"
   ]
  },
  {
   "cell_type": "code",
   "execution_count": null,
   "metadata": {},
   "outputs": [],
   "source": [
    "C.T"
   ]
  },
  {
   "cell_type": "markdown",
   "metadata": {},
   "source": [
    "Para evitar este tipo de situaciones, nunca esta de más pasar un `np.reshape` con la forma del arreglo que se espera."
   ]
  },
  {
   "cell_type": "code",
   "execution_count": null,
   "metadata": {},
   "outputs": [],
   "source": [
    "C_arr = C.reshape((1,10))\n",
    "print(C_arr)\n",
    "print(f\"El arreglo C_arr tiene forma {C_arr.shape}\")"
   ]
  },
  {
   "cell_type": "code",
   "execution_count": null,
   "metadata": {},
   "outputs": [],
   "source": [
    "C_arrT = C_arr.T\n",
    "print(C_arrT)\n",
    "print(f\"La transpuesta de C_arr tiene forma {C_arrT.shape}\")"
   ]
  },
  {
   "cell_type": "markdown",
   "metadata": {},
   "source": [
    "### _Broadcasting_\n",
    "\n",
    "Numpy nos permite realizar operaciones entre arreglos de diferentes dimensiones en muchos casos. Esto se puede apreciar en la siguiente imagen\n",
    "![Broadcasting](../Images/npbroadcasting.png)\n",
    "\n",
    "_[fuente](https://mathematica.stackexchange.com/questions/99171/how-to-implement-the-general-array-broadcasting-method-from-numpy/99553)_\n",
    "\n",
    "\n",
    "#### Puntos a tener en cuenta\n",
    "- El _broadcasting_ compara dimension por dimension de derecha a izquierda\n",
    "- Cuando una dimensión tiene tamaño 1, este elemento es replicado hasta ser equivalente con la dimension comparada\n",
    "- Una buena implementación en las operaciones de numpy evita el uso de bucles"
   ]
  },
  {
   "cell_type": "code",
   "execution_count": null,
   "metadata": {},
   "outputs": [],
   "source": [
    "A = np.arange(6).reshape((1,6))\n",
    "B = np.arange(4).reshape((4,1))\n",
    "print(A)\n",
    "print(f\"A tiene forma {A.shape}\")\n",
    "print(B)\n",
    "print(f\"B tiene forma {B.shape}\")"
   ]
  },
  {
   "cell_type": "code",
   "execution_count": null,
   "metadata": {},
   "outputs": [],
   "source": [
    "C = A + B\n",
    "print(C)\n",
    "print(f\"C tiene forma {C.shape}\")"
   ]
  },
  {
   "cell_type": "code",
   "execution_count": null,
   "metadata": {},
   "outputs": [],
   "source": [
    "# Para casos n-dimensionales\n",
    "A = np.random.rand(20,40,6,23)\n",
    "B = np.random.rand(1,6,1)\n",
    "\n",
    "C = A*B\n",
    "print(f\"A tiene forma {A.shape}\")\n",
    "print(f\"B tiene forma {B.shape}\")\n",
    "print(f\"C tiene forma {C.shape}\")"
   ]
  },
  {
   "cell_type": "markdown",
   "metadata": {},
   "source": [
    "Tener en cuenta las dimensiones tienen que se compatibles, esto quiere decir que al momento de hacer el emparejamiento dimensión por dimensión las dimensiones emparejadas deben ser iguales o al menos una tiene que ser 1"
   ]
  },
  {
   "cell_type": "markdown",
   "metadata": {},
   "source": [
    "## 3.2 Pandas\n",
    "Pandas es la herramienta por excelencia de python para operar sobre data tabular y manejar series de tiempo. Para poder usar este paquete de manera eficiente, tenemos que entender las dos estructuras básicas de pandas: las series y los _dataframes_"
   ]
  },
  {
   "cell_type": "code",
   "execution_count": null,
   "metadata": {},
   "outputs": [],
   "source": [
    "import pandas as pd\n",
    "%matplotlib inline"
   ]
  },
  {
   "cell_type": "markdown",
   "metadata": {},
   "source": [
    "### 3.2.1 Series\n",
    "\n",
    "Una serie de pandas es un arreglo unidimensional de valores los cuales tienen un índice asociado. Por lo general, cuando se trabajan con series de tiempo es común encontrar las fechas en el índice de la serie. La manera más simple de construir una serie de pandas es pasando un arreglo unidimensional de datos ya sea una lista, un arreglo de numpy o un diccionario."
   ]
  },
  {
   "cell_type": "code",
   "execution_count": null,
   "metadata": {},
   "outputs": [],
   "source": [
    "pd.Series(np.arange(10))"
   ]
  },
  {
   "cell_type": "markdown",
   "metadata": {},
   "source": [
    "Por defecto, pandas asigna un índice a nuestra serie si no especificamos nada al crear la serie."
   ]
  },
  {
   "cell_type": "code",
   "execution_count": null,
   "metadata": {},
   "outputs": [],
   "source": [
    "pd.Series(np.arange(10),list('abcdefghij'))"
   ]
  },
  {
   "cell_type": "code",
   "execution_count": null,
   "metadata": {},
   "outputs": [],
   "source": [
    "temp = pd.Series(np.random.randn(365*3),pd.date_range(\"2017-01-01\",freq='D', periods=365*3),name=\"temperature\")\n",
    "temp.head()"
   ]
  },
  {
   "cell_type": "markdown",
   "metadata": {},
   "source": [
    "Ya que tenemos fechas en nuestro índice, podemos realizar algunas operaciones interesantes"
   ]
  },
  {
   "cell_type": "code",
   "execution_count": null,
   "metadata": {},
   "outputs": [],
   "source": [
    "temp.resample('1M').mean().head()"
   ]
  },
  {
   "cell_type": "code",
   "execution_count": null,
   "metadata": {},
   "outputs": [],
   "source": [
    "temp.groupby(temp.index.month).mean()"
   ]
  },
  {
   "cell_type": "code",
   "execution_count": null,
   "metadata": {},
   "outputs": [],
   "source": [
    "temp.groupby(temp.index.day).max()"
   ]
  },
  {
   "cell_type": "markdown",
   "metadata": {},
   "source": [
    "### 3.2.2 DataFrames\n",
    "\n",
    "Los DataFrames son colecciones de series que comparten un índice en común. Se puede entender como una tabla de datos (2D) similar a las tablas de Excel.\n",
    "\n",
    "Para construir un DataFrame podemos pasar un diccionario como data o un arreglo 2d de numpy"
   ]
  },
  {
   "cell_type": "code",
   "execution_count": null,
   "metadata": {},
   "outputs": [],
   "source": [
    "pd.DataFrame({'col1':np.random.randn(10),'col2':np.random.randn(10)})"
   ]
  },
  {
   "cell_type": "code",
   "execution_count": null,
   "metadata": {},
   "outputs": [],
   "source": [
    "df = pd.DataFrame(np.random.randn(15,6), index=pd.date_range(\"2019-01-01\",freq='D',periods=15), columns=['temp', 'precip', 'pres', 'x', 'y', 'z'])\n",
    "df"
   ]
  },
  {
   "cell_type": "code",
   "execution_count": null,
   "metadata": {},
   "outputs": [],
   "source": [
    "df.describe()"
   ]
  },
  {
   "cell_type": "markdown",
   "metadata": {},
   "source": [
    "Si indexamos por columna sobre el dataframe, vamos a obtener una serie como resultado"
   ]
  },
  {
   "cell_type": "code",
   "execution_count": null,
   "metadata": {},
   "outputs": [],
   "source": [
    "df['temp']"
   ]
  },
  {
   "cell_type": "markdown",
   "metadata": {},
   "source": [
    "## Datos ARGO "
   ]
  },
  {
   "cell_type": "markdown",
   "metadata": {},
   "source": [
    "Vamos a acceder a la base de datos de los flotadores ARGO que se encuentra en el [FTP de Ifremer](ftp://ftp.ifremer.fr/ifremer/argo). Este archivo se puede descargar como tambien leer directamente desde la url. Para dicho fin, pandas posee funciones especializadas en leer datos en distintos formatos como separados por comas, de ancho fijo, hojas de excel, etc. Para nuestro caso especfíco usaremos `pd.read_csv`.\n",
    "\n",
    "El contenido de esta base de datos corresponde a los perfiles que fueron actualizados en la ultima semana a nivel global. Podemos visualizar los datos en: ftp://ftp.ifremer.fr/ifremer/argo/ar_index_this_week_prof.txt"
   ]
  },
  {
   "cell_type": "code",
   "execution_count": null,
   "metadata": {},
   "outputs": [],
   "source": [
    "# el archivo incluido en la carpeta Data puede estar desactualizado\n",
    "argo = pd.read_csv('../Data/ar_index_this_week_prof.txt', skiprows=8)\n",
    "argo.head()"
   ]
  },
  {
   "cell_type": "markdown",
   "metadata": {},
   "source": [
    "La columna date representa la fecha original en la que fue tomado el perfil y la columna date_update la fecha en la que se actualizo el archivo en la base de datos de Ifremer."
   ]
  },
  {
   "cell_type": "markdown",
   "metadata": {},
   "source": [
    "Podemos acceder a cada columna usando la notación de python para _indexing_ (uso de `[]`) con el nombre de cada columna"
   ]
  },
  {
   "cell_type": "code",
   "execution_count": null,
   "metadata": {},
   "outputs": [],
   "source": [
    "argo['ocean'].head()"
   ]
  },
  {
   "cell_type": "markdown",
   "metadata": {},
   "source": [
    "Si deseamos seleccionar varias columnas a la vez tenemos que colocar los nombres dentro de una lista"
   ]
  },
  {
   "cell_type": "code",
   "execution_count": null,
   "metadata": {},
   "outputs": [],
   "source": [
    "argo[['date','ocean','institution']].head()"
   ]
  },
  {
   "cell_type": "markdown",
   "metadata": {},
   "source": [
    "Si deseamos seleccionar nuestro DataFrame por filas, podemos usar `loc` o `iloc`. `loc` hace una selección sobre el DataFrame acorde al contenido del índice, es decir, que si escribimos `df.loc[4]` va a buscar todos los elementos que tengan 4 como índice; mientras que para `iloc` lo retornado sería el elemento que se encuentra en la posición 4 del índice.\n",
    "\n",
    "Como al cargar el DataFrame no especificamos un indice, pandas asigna una secuencia consecutiva de números únicos a cada fila, por lo que el uso de `loc` y `iloc` sera equivalente en nuestro caso."
   ]
  },
  {
   "cell_type": "markdown",
   "metadata": {},
   "source": [
    "Además, podemos obtener información útil sobre los elementos de cada columna del DataFrame usando el método `info`"
   ]
  },
  {
   "cell_type": "code",
   "execution_count": null,
   "metadata": {},
   "outputs": [],
   "source": [
    "argo.info()"
   ]
  },
  {
   "cell_type": "markdown",
   "metadata": {},
   "source": [
    "Una vez que tenemos una idea general de como manejar los DataFrames el siguiente paso es procesar los datos ya que estos no se encuentran en los formatos que esperamos. Lo que resalta a primera vista es que las fechas tienen tipo `float64` por lo que no han sido leidas correctamente. Nuestro principal aliado para interpretar distintos formatos de fechas `pd.to_datetime`."
   ]
  },
  {
   "cell_type": "code",
   "execution_count": null,
   "metadata": {},
   "outputs": [],
   "source": [
    "pd.to_datetime(argo['date'].astype(str).str.slice(None,-2), format='%Y%m%d%H%M%S', errors='coerce').head()"
   ]
  },
  {
   "cell_type": "markdown",
   "metadata": {},
   "source": [
    "Vamos a aplicar este arreglo en las columnas que lo necesiten"
   ]
  },
  {
   "cell_type": "code",
   "execution_count": null,
   "metadata": {},
   "outputs": [],
   "source": [
    "argo['date'] = pd.to_datetime(argo['date'].astype(str).str.slice(None,-2), format='%Y%m%d%H%M%S', errors='coerce')\n",
    "argo['date_update'] = pd.to_datetime(argo['date_update'].astype(str).str.slice(None,-2), format='%Y%m%d%H%M%S', errors='coerce')\n",
    "argo.head()"
   ]
  },
  {
   "cell_type": "markdown",
   "metadata": {},
   "source": [
    "La columna file tiene rutas hacia los archivos de los perfiles en el centro de datos por lo que podemos tener varios perfiles para un solo flotador. Queremos crear una nueva columna `Id` que tenga solo el numero de plataforma para cada flotador. Para crear una nueva columna simplemente debemos de asumir que siempre existió."
   ]
  },
  {
   "cell_type": "code",
   "execution_count": null,
   "metadata": {},
   "outputs": [],
   "source": [
    "argo['id'] = argo['file'].str.split('/',expand=True)[1]\n",
    "argo.head()"
   ]
  },
  {
   "cell_type": "markdown",
   "metadata": {},
   "source": [
    "Los valores de la columna `ocean` indican el océano en el que el flotador se encuentra. Vamos a seleccionar solo los que se encuentran en el océano pacífico.\n",
    "\n",
    "Para revisar los valores únicos dentro de la columna usaremos el método `unique` sobre la columna"
   ]
  },
  {
   "cell_type": "code",
   "execution_count": null,
   "metadata": {},
   "outputs": [],
   "source": [
    "print(f\"La columna file tiene {argo.file.shape} entradas para una cantidad de {argo.id.unique().shape} flotadores unicos\")"
   ]
  },
  {
   "cell_type": "code",
   "execution_count": null,
   "metadata": {},
   "outputs": [],
   "source": [
    "argo['ocean'].unique()"
   ]
  },
  {
   "cell_type": "markdown",
   "metadata": {},
   "source": [
    "Para realizar evaluaciones condicionales sobre el dataframe podemos usar el método `query` que facilita muchas operaciones"
   ]
  },
  {
   "cell_type": "code",
   "execution_count": null,
   "metadata": {},
   "outputs": [],
   "source": [
    "argo_pacific = argo.query('ocean==\"P\"').copy()\n",
    "argo_pacific.head()"
   ]
  },
  {
   "cell_type": "markdown",
   "metadata": {},
   "source": [
    "Podemos filtrar los datos para quedarnos con los actualizados desde el 18 de setiembre"
   ]
  },
  {
   "cell_type": "code",
   "execution_count": null,
   "metadata": {},
   "outputs": [],
   "source": [
    "start_date = pd.to_datetime(\"2019-09-18\")\n",
    "filtered = argo_pacific.query(\"date_update>@start_date\")\n",
    "filtered.head()"
   ]
  },
  {
   "cell_type": "code",
   "execution_count": null,
   "metadata": {},
   "outputs": [],
   "source": [
    "filtered.plot.scatter(x='longitude', y='latitude')"
   ]
  },
  {
   "cell_type": "markdown",
   "metadata": {},
   "source": [
    "Como tambien podemos obtener un gráfico de la cantidad de actualizaciones que hubieron por día en todo el globo haciendo uso del método `resample`"
   ]
  },
  {
   "cell_type": "code",
   "execution_count": null,
   "metadata": {},
   "outputs": [],
   "source": [
    "argo.resample('D',on='date_update').count()['file'].plot(kind='bar')"
   ]
  },
  {
   "cell_type": "markdown",
   "metadata": {},
   "source": [
    "o por cada 6h"
   ]
  },
  {
   "cell_type": "code",
   "execution_count": null,
   "metadata": {},
   "outputs": [],
   "source": [
    "argo.resample('6h',on='date_update').count()['file'].plot(kind='bar')"
   ]
  },
  {
   "cell_type": "markdown",
   "metadata": {},
   "source": [
    "Las posibilidades de trabajo son infinitas, consultando la documentación y stackoverflow podemos conseguir la ayuda necesaria para nuestro trabajo"
   ]
  },
  {
   "cell_type": "code",
   "execution_count": null,
   "metadata": {},
   "outputs": [],
   "source": [
    "argo.groupby('ocean').resample('D',on='date_update').count()['ocean'].unstack('ocean').plot(kind='bar',stacked=True)"
   ]
  },
  {
   "cell_type": "markdown",
   "metadata": {},
   "source": [
    "Adicional a las herramientas que nos ofrece pandas, existen paquetes que extienden el funcionamiento como el caso de pandas_profiling que nos ofrece un reporte detallado sobre nuestro DataFrame"
   ]
  },
  {
   "cell_type": "code",
   "execution_count": null,
   "metadata": {},
   "outputs": [],
   "source": [
    "import pandas_profiling\n",
    "argo.profile_report(style={'full_width':True})"
   ]
  },
  {
   "cell_type": "markdown",
   "metadata": {},
   "source": [
    "## 3.3 Matplotlib\n",
    "Este paquete es la base de las gráficas en casi todo el ecosistema de Python. Virtualmente, todo tipo de gráfico puede ser realizado usando este paquete, lo unico que varia es la cantidad de tiempo que uno desea invertir en los detalles de cada gráfico.\n",
    "\n",
    "Para comenzar con los gráficos, primero debemos declarar una figura (canvas) sobre la cual se realizarán los dibujos. Sobre la figura se deben declarar los ejes que servirán para colocar los datos ([ref](https://matplotlib.org/3.1.1/gallery/showcase/anatomy.html))"
   ]
  },
  {
   "cell_type": "code",
   "execution_count": null,
   "metadata": {},
   "outputs": [],
   "source": [
    "import matplotlib.pyplot as plt\n",
    "plt.style.use('default')"
   ]
  },
  {
   "cell_type": "code",
   "execution_count": null,
   "metadata": {},
   "outputs": [],
   "source": [
    "%matplotlib inline"
   ]
  },
  {
   "cell_type": "code",
   "execution_count": null,
   "metadata": {},
   "outputs": [],
   "source": [
    "x = np.arange(1,100)\n",
    "y = np.log(x)\n",
    "fig = plt.figure()\n",
    "ax = fig.add_subplot('111')\n",
    "ax.plot(x, y)"
   ]
  },
  {
   "cell_type": "markdown",
   "metadata": {},
   "source": [
    "Al momento de declarar los ejes se especifica el subplot mediante el texto \"111\" que indican la cantidad de filas, columnas y a que numero de plot nos referimos"
   ]
  },
  {
   "cell_type": "code",
   "execution_count": null,
   "metadata": {},
   "outputs": [],
   "source": [
    "y2 = x**2\n",
    "fig = plt.figure()\n",
    "ax = fig.add_subplot('211')\n",
    "ax.plot(x,y)\n",
    "ax = fig.add_subplot('212')\n",
    "ax.plot(x,y2)"
   ]
  },
  {
   "cell_type": "markdown",
   "metadata": {},
   "source": [
    "Si bien esta sintaxis es familiar a los que han usado MATLAB, la forma _pythonica_ de declarar una imagen y los ejes es usando la función `subplots` que retorna dos valores: una figura y un eje"
   ]
  },
  {
   "cell_type": "code",
   "execution_count": null,
   "metadata": {},
   "outputs": [],
   "source": [
    "fig, ax = plt.subplots()\n",
    "ax.plot(x, y, label='log')\n",
    "ax.plot(x,y2/1e3, label ='cuadratic')\n",
    "ax.set_xlabel('x')\n",
    "ax.set_ylabel('y')\n",
    "ax.legend()"
   ]
  },
  {
   "cell_type": "markdown",
   "metadata": {},
   "source": [
    "Matplotlib es super intuitivo, muchas de los métodos para realizar gráficos funcionan sin necesidad de agregar muchos argumentos"
   ]
  },
  {
   "cell_type": "code",
   "execution_count": null,
   "metadata": {},
   "outputs": [],
   "source": [
    "a = np.arange(-5,5,0.1)\n",
    "b = np.arange(10, 20, 0.2)\n",
    "\n",
    "aa, bb = np.meshgrid(a, b)\n",
    "\n",
    "c = np.sin(bb / aa)"
   ]
  },
  {
   "cell_type": "code",
   "execution_count": null,
   "metadata": {},
   "outputs": [],
   "source": [
    "fig, ax = plt.subplots(ncols=2, nrows=2, dpi=200)\n",
    "\n",
    "ax[0][0].set_title('pcolormesh')\n",
    "ax[0][0].pcolormesh(a, b, c)\n",
    "\n",
    "ax[0][1].set_title('contourf')\n",
    "ax[0][1].contourf(a, b, c)\n",
    "\n",
    "ax[1][0].set_title('contour')\n",
    "ax[1][0].contour(a, b, c)\n",
    "\n",
    "ax[1][1].set_title('imshow')\n",
    "ax[1][1].imshow(c)\n",
    "\n",
    "fig.tight_layout()"
   ]
  },
  {
   "cell_type": "code",
   "execution_count": null,
   "metadata": {},
   "outputs": [],
   "source": [
    "arr = np.arange(-2*np.pi,2*np.pi, 0.4)\n",
    "\n",
    "xx, yy = np.meshgrid(arr,arr)\n",
    "\n",
    "U = xx**2\n",
    "V = yy**2\n",
    "plt.quiver(xx, yy, U, V, U**2+V**2, pivot='middle', cmap=plt.get_cmap('magma'))"
   ]
  },
  {
   "cell_type": "code",
   "execution_count": null,
   "metadata": {},
   "outputs": [],
   "source": [
    "plt.streamplot(xx, yy, U, V, color=U**2+V**2, cmap=plt.get_cmap('Blues'))"
   ]
  },
  {
   "cell_type": "markdown",
   "metadata": {},
   "source": [
    "### Personalizando gráficos\n",
    "\n",
    "Matplotlib ofrece una serie de estilos que modifican la forma en que se ven nuestros gráficos. Estos estilos vienen junto con nuestra instalación, sin embargo, somos libres de modificar cualquier aspecto del gráfico a nuestro gusto.\n",
    "\n",
    "**Referencias:**\n",
    "\n",
    "- https://matplotlib.org/3.1.0/gallery/style_sheets/style_sheets_reference.html\n",
    "\n",
    "- https://matplotlib.org/3.1.1/tutorials/introductory/customizing.html"
   ]
  },
  {
   "cell_type": "code",
   "execution_count": null,
   "metadata": {},
   "outputs": [],
   "source": [
    "plt.style.use('ggplot')\n",
    "plt.plot(x,y)"
   ]
  },
  {
   "cell_type": "code",
   "execution_count": null,
   "metadata": {},
   "outputs": [],
   "source": [
    "plt.style.use('default')\n",
    "plt.style.use('seaborn')\n",
    "plt.plot(x, y)"
   ]
  },
  {
   "cell_type": "markdown",
   "metadata": {},
   "source": [
    "Matplotlib es una de las bases que tiene python para manejar los gráficos sobre la cual se han construido varias librerias que facilitan ciertas operaciones. Por ahora exploraremos un poco sobre como realizar mapas usando Cartopy"
   ]
  },
  {
   "cell_type": "markdown",
   "metadata": {},
   "source": [
    "## 3.4 Cartopy\n",
    "\n",
    "Cartopy nos permite realizar mapas en distintos sistemas de coordenadas. Nos permite agregar shapefiles de costa, bordes de paises y más ademas de proyectar nuestros datos acorde al sistema de referencia escogido.\n",
    "\n",
    "Para usar cartopy solo necesitamos indicarle a nuestra figura de matplotlib la proyección en la que queremos realizar el gráfico"
   ]
  },
  {
   "cell_type": "code",
   "execution_count": null,
   "metadata": {},
   "outputs": [],
   "source": [
    "import cartopy.crs as ccrs\n",
    "plt.style.use('default')"
   ]
  },
  {
   "cell_type": "code",
   "execution_count": null,
   "metadata": {},
   "outputs": [],
   "source": [
    "lat = np.arange(-90,90.1,5)\n",
    "lon = np.arange(-180, 180.1, 5)\n",
    "lon, lat = np.meshgrid(lon, lat)\n",
    "data = np.sin(np.abs(lat)*np.pi/180)*np.cos(lon*5)\n",
    "\n",
    "fig = plt.figure()\n",
    "ax = fig.add_subplot(111,projection=ccrs.PlateCarree())\n",
    "ax.contourf(lon,lat,data, transform=ccrs.PlateCarree())\n",
    "ax.set_global()\n",
    "ax.coastlines()"
   ]
  },
  {
   "cell_type": "markdown",
   "metadata": {},
   "source": [
    "Cartopy provee dos palabras clave: `transform` y `projection`.\n",
    "\n",
    "- `projection` definira como se verá el gráfico de salida, es la poyección en la que queremos obtener nuestro gráfico.\n",
    "\n",
    "- `transform` le dice a Cartopy en que sistema de referencia se encuentran nuestros datos."
   ]
  },
  {
   "cell_type": "code",
   "execution_count": null,
   "metadata": {},
   "outputs": [],
   "source": [
    "fig, ax = plt.subplots(subplot_kw={'projection':ccrs.Sinusoidal()})\n",
    "ax.contourf(lon,lat,data, transform=ccrs.PlateCarree())\n",
    "ax.set_global()\n",
    "ax.coastlines()"
   ]
  },
  {
   "cell_type": "code",
   "execution_count": null,
   "metadata": {},
   "outputs": [],
   "source": [
    "fig, ax = plt.subplots(subplot_kw={'projection':ccrs.Orthographic()})\n",
    "ax.contourf(lon,lat,data, transform=ccrs.PlateCarree())\n",
    "ax.set_global()\n",
    "ax.coastlines()"
   ]
  },
  {
   "cell_type": "code",
   "execution_count": null,
   "metadata": {},
   "outputs": [],
   "source": [
    "fig, ax = plt.subplots(subplot_kw={'projection':ccrs.Mollweide()})\n",
    "ax.contourf(lon,lat,data, transform=ccrs.PlateCarree())\n",
    "ax.set_global()\n",
    "ax.coastlines()"
   ]
  },
  {
   "cell_type": "markdown",
   "metadata": {},
   "source": [
    "Para una mayor referencia de las proyecciones disponibles, revisar la [documentación](https://scitools.org.uk/cartopy/docs/latest/crs/projections.html) de cartopy"
   ]
  },
  {
   "cell_type": "markdown",
   "metadata": {},
   "source": [
    "Hasta ahora solo hemos hecho uso de `coastlines` para dibujar las lineas de Costa, ahora veremos como personalizar auna más estos elementos mediante el módulo `feature`.\n",
    "\n",
    "_Nota_: Cuando se va a usar un `feature` por primera vez (un shapefile a resumidas cuentas), este archivo es descargado desde la base de datos [Natural Earth Data](http://www.naturalearthdata.com/) por lo que puede demorar un poco la primera vez que se realice el gráfico."
   ]
  },
  {
   "cell_type": "code",
   "execution_count": null,
   "metadata": {},
   "outputs": [],
   "source": [
    "import cartopy.feature as cfeature"
   ]
  },
  {
   "cell_type": "code",
   "execution_count": null,
   "metadata": {},
   "outputs": [],
   "source": [
    "lat = lat[15:25, 30:50]\n",
    "lon = lon[15:25, 30:50]\n",
    "data = data[15:25, 30:50]"
   ]
  },
  {
   "cell_type": "code",
   "execution_count": null,
   "metadata": {},
   "outputs": [],
   "source": [
    "fig, ax = plt.subplots(subplot_kw={'projection':ccrs.PlateCarree()})\n",
    "ax.contourf(lon,lat,data, transform=ccrs.PlateCarree())\n",
    "ax.set_global()\n",
    "ax.add_feature(cfeature.LAND)\n",
    "ax.add_feature(cfeature.OCEAN)\n",
    "ax.add_feature(cfeature.COASTLINE)\n",
    "ax.add_feature(cfeature.BORDERS, linestyle='--')"
   ]
  },
  {
   "cell_type": "markdown",
   "metadata": {},
   "source": [
    "Los ticks de lat/lon se configuran de la siguente forma."
   ]
  },
  {
   "cell_type": "code",
   "execution_count": null,
   "metadata": {},
   "outputs": [],
   "source": [
    "from cartopy.mpl.ticker import LongitudeFormatter, LatitudeFormatter\n",
    "\n",
    "fig, ax = plt.subplots(subplot_kw={'projection':ccrs.PlateCarree()})\n",
    "\n",
    "# Se instancia las funciones que daran formato a las etiquetas\n",
    "lon_formatter = LongitudeFormatter()\n",
    "lat_formatter = LatitudeFormatter()\n",
    "\n",
    "# Se ponen los ticks lat/lon con los intervalos deseados\n",
    "ax.set_xticks(np.arange(-180,180,20), crs=ccrs.PlateCarree())\n",
    "ax.set_yticks(np.arange(-90,90,10), crs=ccrs.PlateCarree())\n",
    "\n",
    "# Se aplica el formato a las etiquetas de los ticks\n",
    "ax.xaxis.set_major_formatter(lon_formatter)\n",
    "ax.yaxis.set_major_formatter(lat_formatter)\n",
    "\n",
    "# Se restringe el área del gráfico para solo incluir la zona de interés\n",
    "ax.set_extent([-40, 80, -30, 40], crs=ccrs.PlateCarree())\n",
    "\n",
    "# Se realiza el gráfico junto a los features\n",
    "ax.contourf(lon,lat,data, transform=ccrs.PlateCarree())\n",
    "ax.add_feature(cfeature.LAND)\n",
    "ax.add_feature(cfeature.OCEAN)\n",
    "ax.add_feature(cfeature.COASTLINE)\n",
    "ax.add_feature(cfeature.BORDERS, linestyle='--')"
   ]
  },
  {
   "cell_type": "markdown",
   "metadata": {},
   "source": [
    "Por defecto estos shapefiles se encuentran a una resolución de 110m con estilos fijos. Si se desea personalizar estos poligonos, deberá crearlos tal como se especifica en la [documentación](https://scitools.org.uk/cartopy/docs/v0.16/matplotlib/feature_interface.html)"
   ]
  },
  {
   "cell_type": "code",
   "execution_count": null,
   "metadata": {},
   "outputs": [],
   "source": [
    "hq_border = cfeature.NaturalEarthFeature(\n",
    "                        category='cultural',\n",
    "                        name='admin_0_countries',\n",
    "                        scale='50m',\n",
    "                        facecolor='black',\n",
    "                        edgecolor='grey')"
   ]
  },
  {
   "cell_type": "code",
   "execution_count": null,
   "metadata": {},
   "outputs": [],
   "source": [
    "from cartopy.mpl.ticker import LongitudeFormatter, LatitudeFormatter\n",
    "\n",
    "fig, ax = plt.subplots(subplot_kw={'projection':ccrs.PlateCarree()})\n",
    "ax.contourf(lon,lat,data, transform=ccrs.PlateCarree())\n",
    "ax.add_feature(hq_border)"
   ]
  },
  {
   "cell_type": "code",
   "execution_count": null,
   "metadata": {},
   "outputs": [],
   "source": []
  }
 ],
 "metadata": {
  "kernelspec": {
   "display_name": "Python 3",
   "language": "python",
   "name": "python3"
  },
  "language_info": {
   "codemirror_mode": {
    "name": "ipython",
    "version": 3
   },
   "file_extension": ".py",
   "mimetype": "text/x-python",
   "name": "python",
   "nbconvert_exporter": "python",
   "pygments_lexer": "ipython3",
   "version": "3.6.7"
  }
 },
 "nbformat": 4,
 "nbformat_minor": 4
}
