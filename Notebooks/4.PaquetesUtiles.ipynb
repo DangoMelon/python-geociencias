{
 "cells": [
  {
   "cell_type": "markdown",
   "metadata": {},
   "source": [
    "# 3. Paquetes útiles\n",
    "\n",
    "Python extiende sus capacidades mediante la importación de paquetes. Los paquetes en los que nos centraremos ahora serán `numpy`, para el manejo de datos n-dimensionales y operaciones vectorizadas; `pandas`, para el manejo de datos tabulares y series de tiempo; y matplotlib, para realizar gráficos de nuestros datos"
   ]
  },
  {
   "cell_type": "markdown",
   "metadata": {},
   "source": [
    "## 3.1 Numpy\n",
    "Numpy es el paquete fundamental de python para cualquier tipo de cálculo científico a realizar. En comparación al módulo `math` de la libreria estandar de Python, `numpy` es capaz de operar sobre arreglos n-dimensionales de manera eficiente. Para más detalles pueden dirigirse a la página oficial de [Numpy](https://numpy.org/).\n",
    "\n",
    "La estructura básica de Numpy son los `ndarray`, que significa \"n dimensional array\", los cuales pueden ser construidos de diferentes formas. Revisaremos los métodos más convenientes para crear un `ndarray` y realizar operaciones con ellos"
   ]
  },
  {
   "cell_type": "code",
   "execution_count": null,
   "metadata": {},
   "outputs": [],
   "source": [
    "import numpy as np"
   ]
  },
  {
   "cell_type": "markdown",
   "metadata": {},
   "source": [
    "- ### `np.array`\n",
    "Es la forma más simple de declarar un arreglo de numpy. Nos solicita como argumento algun elemento que tenga forma de arreglo (como las listas)."
   ]
  },
  {
   "cell_type": "code",
   "execution_count": null,
   "metadata": {},
   "outputs": [],
   "source": [
    "datos = [[3, 2, 5, 6, 1, 9, 5],\n",
    "         [0, -2, 5, 7, 3, 2, 6]]\n",
    "narr = np.array(datos)\n",
    "narr"
   ]
  },
  {
   "cell_type": "markdown",
   "metadata": {},
   "source": [
    "Una vez que tenemos un arreglo de numpy asignado a una variable, podemos obtener las propiedades del arreglo usando `ndim`, `shape`, `size`, `dtype`, entre otros."
   ]
  },
  {
   "cell_type": "code",
   "execution_count": null,
   "metadata": {},
   "outputs": [],
   "source": [
    "narr.ndim, narr.shape, narr.dtype"
   ]
  },
  {
   "cell_type": "markdown",
   "metadata": {},
   "source": [
    "- ### `np.zeros`, `np.ones`, `np.full`\n",
    "Estas funciones retornarán arreglos de numpy llenos de zeros (`np.zeros`), unos (`np.ones`) o del numero que quisieramos (`np.full`). Las tres funciones nos solicitan que pasemos las dimensiones del arreglo de salida en forma de una tupla `(nx, ny, nz, ...)`"
   ]
  },
  {
   "cell_type": "code",
   "execution_count": null,
   "metadata": {},
   "outputs": [],
   "source": [
    "np.zeros((4, 5))"
   ]
  },
  {
   "cell_type": "code",
   "execution_count": null,
   "metadata": {},
   "outputs": [],
   "source": [
    "np.ones((6, 2))"
   ]
  },
  {
   "cell_type": "code",
   "execution_count": null,
   "metadata": {},
   "outputs": [],
   "source": [
    "np.full((4, 6), 9)"
   ]
  },
  {
   "cell_type": "markdown",
   "metadata": {},
   "source": [
    "- ### `np.reshape`\n",
    "Esta función nos permite cambiar de forma nuestro arreglo mientras que la cantidad de elementos se conserve. Nos pide como argumento la nueva forma para el arreglo.\n",
    "Para obtener la cantidad de elementos de un arreglo de numpy se usa la propiedad `size`."
   ]
  },
  {
   "cell_type": "code",
   "execution_count": null,
   "metadata": {},
   "outputs": [],
   "source": [
    "A = np.zeros((10,8))\n",
    "print(f\"El arreglo A tiene {A.size} elementos y forma {A.shape}\")\n",
    "B = A.reshape((20,4))\n",
    "print(f\"El arreglo B tiene {B.size} elementos y forma {B.shape}\")"
   ]
  },
  {
   "cell_type": "markdown",
   "metadata": {},
   "source": [
    "- ### `np.arange`\n",
    "Similar a la función propia de python `range`, `np.arange` nos creará un arreglo de numeros espaciados regularmente dentro de un objeto de numpy. Para hacer uso de la función le podemos proporcionar tres argumentos (start, stop, step) o un solo valor (stop) en donde comenzará el arreglo desde 0 con espaciado 1. El arreglo de salida será 1-dimensional (detalles más adelante)"
   ]
  },
  {
   "cell_type": "code",
   "execution_count": null,
   "metadata": {},
   "outputs": [],
   "source": [
    "np.arange(19)"
   ]
  },
  {
   "cell_type": "code",
   "execution_count": null,
   "metadata": {},
   "outputs": [],
   "source": [
    "np.arange(2, 100, 2)"
   ]
  },
  {
   "cell_type": "code",
   "execution_count": null,
   "metadata": {},
   "outputs": [],
   "source": [
    "np.arange(-90, 90, 0.125) # el espaciado puede ser decimal"
   ]
  },
  {
   "cell_type": "markdown",
   "metadata": {},
   "source": [
    "- ### `np.linspace`\n",
    "Similar a `np.arange`, tambien creará una serie de elementos en un objeto de numpy, la diferencia está en que generará la cantidad de elementos que solicitemos espaciados regularmente, sin necesidad de especificar los _step_"
   ]
  },
  {
   "cell_type": "code",
   "execution_count": null,
   "metadata": {},
   "outputs": [],
   "source": [
    "np.linspace(10, 15, 7) # Queremos 7 numeros que esten entre 10 y 15"
   ]
  },
  {
   "cell_type": "code",
   "execution_count": null,
   "metadata": {},
   "outputs": [],
   "source": [
    "np.linspace(-15,15,30) # 30 elementos entre -15 y 15"
   ]
  },
  {
   "cell_type": "markdown",
   "metadata": {},
   "source": [
    "- ### `np.mesgrid`\n",
    "Esta función generará un malla proveniente de dos vectores bases. Esto es util cuando se quiere generar pares ordenados de lon/lat."
   ]
  },
  {
   "cell_type": "code",
   "execution_count": null,
   "metadata": {},
   "outputs": [],
   "source": [
    "x = np.arange(2, 6, 0.5)\n",
    "y = np. arange(10, 18, 2)\n",
    "\n",
    "print(f\"x es : {x}\")\n",
    "print(f\"y es : {y}\")\n",
    "\n",
    "xx, yy = np.meshgrid(x, y)"
   ]
  },
  {
   "cell_type": "code",
   "execution_count": null,
   "metadata": {},
   "outputs": [],
   "source": [
    "xx"
   ]
  },
  {
   "cell_type": "code",
   "execution_count": null,
   "metadata": {},
   "outputs": [],
   "source": [
    "yy"
   ]
  },
  {
   "cell_type": "markdown",
   "metadata": {},
   "source": [
    "### Operaciones entre arreglos de numpy\n",
    "Desde las operaciones básicas hasta las más complejas, numpy hace uso del _broadcasting_ el cual permite operar en arreglos de distintas dimensiones, replicando el arreglo de menor dimension hasta emparejar el arreglo de mayor dimensión."
   ]
  },
  {
   "cell_type": "markdown",
   "metadata": {},
   "source": [
    "#### ⚠ Cuidado con los arreglos 1-dimensionales 💀\n",
    "Numpy tiene una particularidad cuando empezamos a tratar datos de varias dimensiones. Para entender esto, vamos a verificar las dimensiones de un arreglo generado por `np.arange`"
   ]
  },
  {
   "cell_type": "code",
   "execution_count": null,
   "metadata": {},
   "outputs": [],
   "source": [
    "C = np.arange(10)\n",
    "print(f\"El arreglo C es {C}\\n y tiene forma {C.shape}\")"
   ]
  },
  {
   "cell_type": "markdown",
   "metadata": {},
   "source": [
    "A simple vista parece un vector que tiene 1 fila y 100 columnas, i.e. forma (1,100), pero al verificar la forma usando `shape` vemos que numpy lo reconoce como un arreglo de forma (100,). El conteo de dimensiones muestra que nuestro arreglo tiene 1 dimensión"
   ]
  },
  {
   "cell_type": "code",
   "execution_count": null,
   "metadata": {},
   "outputs": [],
   "source": [
    "C.ndim"
   ]
  },
  {
   "cell_type": "markdown",
   "metadata": {},
   "source": [
    "Esto puede introducir ciertos errores al momento de realizar operaciones con arreglos de más dimensiones o puede otorgar resultados inesperados. Un ejemplo sería el calculo de la transpuesta para nuestro arreglo C. Lo que se esperaría es que nos retorne una columna, sin embargo esto no sucede"
   ]
  },
  {
   "cell_type": "code",
   "execution_count": null,
   "metadata": {},
   "outputs": [],
   "source": [
    "C.T"
   ]
  },
  {
   "cell_type": "markdown",
   "metadata": {},
   "source": [
    "Para evitar este tipo de situaciones, nunca esta de más pasar un `np.reshape` con la forma del arreglo que se espera."
   ]
  },
  {
   "cell_type": "code",
   "execution_count": null,
   "metadata": {},
   "outputs": [],
   "source": [
    "C_arr = C.reshape((1,10))\n",
    "print(C_arr)\n",
    "print(f\"El arreglo C_arr tiene forma {C_arr.shape}\")"
   ]
  },
  {
   "cell_type": "code",
   "execution_count": null,
   "metadata": {},
   "outputs": [],
   "source": [
    "C_arrT = C_arr.T\n",
    "print(C_arrT)\n",
    "print(f\"La transpuesta de C_arr tiene forma {C_arrT.shape}\")"
   ]
  },
  {
   "cell_type": "markdown",
   "metadata": {},
   "source": [
    "### _Broadcasting_\n",
    "\n",
    "Numpy nos permite realizar operaciones entre arreglos de diferentes dimensiones en muchos casos. Esto se puede apreciar en la siguiente imagen\n",
    "![Broadcasting](../Images/npbroadcasting.png)\n",
    "\n",
    "_[fuente](https://mathematica.stackexchange.com/questions/99171/how-to-implement-the-general-array-broadcasting-method-from-numpy/99553)_\n",
    "\n",
    "\n",
    "#### Puntos a tener en cuenta\n",
    "- El _broadcasting_ compara dimension por dimension de derecha a izquierda\n",
    "- Cuando una dimensión tiene tamaño 1, este elemento es replicado hasta ser equivalente con la dimension comparada\n",
    "- Una buena implementación en las operaciones de numpy evita el uso de bucles"
   ]
  },
  {
   "cell_type": "code",
   "execution_count": null,
   "metadata": {},
   "outputs": [],
   "source": [
    "A = np.arange(6).reshape((1,6))\n",
    "B = np.arange(4).reshape((4,1))\n",
    "print(A)\n",
    "print(f\"A tiene forma {A.shape}\")\n",
    "print(B)\n",
    "print(f\"B tiene forma {B.shape}\")"
   ]
  },
  {
   "cell_type": "code",
   "execution_count": null,
   "metadata": {},
   "outputs": [],
   "source": [
    "C = A + B\n",
    "print(C)\n",
    "print(f\"C tiene forma {C.shape}\")"
   ]
  },
  {
   "cell_type": "code",
   "execution_count": null,
   "metadata": {},
   "outputs": [],
   "source": [
    "# Para casos n-dimensionales\n",
    "A = np.random.rand(20,40,6,23)\n",
    "B = np.random.rand(1,6,1)\n",
    "\n",
    "C = A*B\n",
    "print(f\"A tiene forma {A.shape}\")\n",
    "print(f\"B tiene forma {B.shape}\")\n",
    "print(f\"C tiene forma {C.shape}\")"
   ]
  },
  {
   "cell_type": "markdown",
   "metadata": {},
   "source": [
    "Tener en cuenta las dimensiones tienen que se compatibles, esto quiere decir que al momento de hacer el emparejamiento dimensión por dimensión las dimensiones emparejadas deben ser iguales o al menos una tiene que ser 1"
   ]
  },
  {
   "cell_type": "markdown",
   "metadata": {},
   "source": [
    "## 3.2 Pandas\n",
    "Pandas es la herramienta por excelencia de python para operar sobre data tabular y manejar series de tiempo. Para poder usar este paquete de manera eficiente, tenemos que entender las dos estructuras básicas de pandas: las series y los _dataframes_"
   ]
  },
  {
   "cell_type": "code",
   "execution_count": null,
   "metadata": {},
   "outputs": [],
   "source": [
    "import pandas as pd"
   ]
  },
  {
   "cell_type": "markdown",
   "metadata": {},
   "source": [
    "## 3.3 Matplotlib\n",
    "Este paquete es la base de las gráficas en casi todo el ecosistema de Python. Virtualmente, todo tipo de gráfico puede ser realizado usando este paquete, lo unico que varia es la cantidad de tiempo que uno desea invertir en los detalles de cada gráfico.\n",
    "\n",
    "Para comenzar con los gráficos, primero debemos declarar una figura (canvas) sobre la cual se realizarán los dibujos. Sobre la figura se deben declarar los ejes que servirán para colocar los datos"
   ]
  },
  {
   "cell_type": "code",
   "execution_count": null,
   "metadata": {},
   "outputs": [],
   "source": [
    "import matplotlib.pyplot as plt"
   ]
  },
  {
   "cell_type": "code",
   "execution_count": null,
   "metadata": {},
   "outputs": [],
   "source": [
    "%matplotlib inline"
   ]
  },
  {
   "cell_type": "code",
   "execution_count": null,
   "metadata": {},
   "outputs": [],
   "source": [
    "x = np.arange(1,100)\n",
    "y = np.log(x)\n",
    "fig = plt.figure()\n",
    "ax = fig.add_subplot('111')\n",
    "ax.plot(x, y)"
   ]
  },
  {
   "cell_type": "markdown",
   "metadata": {},
   "source": [
    "Al momento de declarar los ejes se especifica el subplot mediante el texto \"111\" que indican la cantidad de filas, columnas y a que numero de plot nos referimos"
   ]
  },
  {
   "cell_type": "code",
   "execution_count": null,
   "metadata": {},
   "outputs": [],
   "source": [
    "y2 = x**2\n",
    "fig = plt.figure()\n",
    "ax = fig.add_subplot('211')\n",
    "ax.plot(x,y)\n",
    "ax = fig.add_subplot('212')\n",
    "ax.plot(x,y2)"
   ]
  },
  {
   "cell_type": "markdown",
   "metadata": {},
   "source": []
  }
 ],
 "metadata": {
  "kernelspec": {
   "display_name": "Python 3",
   "language": "python",
   "name": "python3"
  },
  "language_info": {
   "codemirror_mode": {
    "name": "ipython",
    "version": 3
   },
   "file_extension": ".py",
   "mimetype": "text/x-python",
   "name": "python",
   "nbconvert_exporter": "python",
   "pygments_lexer": "ipython3",
   "version": "3.6.7"
  }
 },
 "nbformat": 4,
 "nbformat_minor": 4
}
