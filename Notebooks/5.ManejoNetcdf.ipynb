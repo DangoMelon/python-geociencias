{
 "cells": [
  {
   "cell_type": "markdown",
   "metadata": {},
   "source": [
    "# 3. Manejando Netcdf"
   ]
  },
  {
   "cell_type": "markdown",
   "metadata": {},
   "source": [
    "Para manejar netcdfs usando python haremos uso extensivo de los paquetes estrella de la plataforma Pangeo. Pangeo es un esfuerzo de la comunidad que promueve la reproductibilidad, escalamiento y transparencia en la ciencia.\n",
    "\n",
    "El paquete de cabecera para el manejo de netcdfs será [xarray](http://xarray.pydata.org/en/latest/). Xarray extiende las capacidades de numpy en el manejo de datos n-dimensionales introduciendo etiquetas en forma de dimensiones, coordenadas y atributos que facilitan las operaciones sobre los mismos. El motor para las operaciones entre fechas es proporcionado por pandas y la escalabilidad de los datos es proporcionado por dask, lo cual convierte a este paquete en una herramienta poderosa."
   ]
  },
  {
   "cell_type": "code",
   "execution_count": null,
   "metadata": {},
   "outputs": [],
   "source": [
    "%matplotlib inline\n",
    "import numpy as np\n",
    "import pandas as pd\n",
    "import xarray as xr\n",
    "import matplotlib.pyplot as plt"
   ]
  },
  {
   "cell_type": "markdown",
   "metadata": {},
   "source": [
    "## 3.1 Estructuras de xarray\n",
    "\n",
    "xarray cuenta con dos estructuras simples que son fundamentales comprender para un mejor uso del paquete. Esta es una brevisima descripción sobre algunos conceptos claves que se deben tener presentes, mayor informacion la pueden encontrar siempre en la [documentacion](http://xarray.pydata.org/en/stable/data-structures.html#)\n",
    "\n",
    "### 3.1.1 DataArray\n",
    "\n",
    "Un `DataArray` es virtualmente igual a un arreglo n-dimensional de numpy que cuenta con etiquetas en sus dimensiones, siendo el elemento base de xarray. Para denifinir un `DataArray` necesitaremos proporcionar, como mínimo, una arreglo de elementos numéricos."
   ]
  },
  {
   "cell_type": "code",
   "execution_count": null,
   "metadata": {},
   "outputs": [],
   "source": [
    "xr.DataArray(np.random.randn(10,40))"
   ]
  },
  {
   "cell_type": "markdown",
   "metadata": {},
   "source": [
    "Como podemos observar, xarray automaticamente asignó nombres a las dimensiones y nos informa que no encuentra coordenadas asociadas a estas dimensiones. Ahora procederemos a declarar un `DataArray` con la información que falta"
   ]
  },
  {
   "cell_type": "code",
   "execution_count": null,
   "metadata": {},
   "outputs": [],
   "source": [
    "# Creamos un poco de data falsa\n",
    "lat = np.arange(-90, 90, 0.25)\n",
    "lon = np.arange(0, 360, 0.25)\n",
    "llon, llat = np.meshgrid(lon, lat)\n",
    "data = np.sin(llat**2-llon**2)\n",
    "\n",
    "# Creamos el DataArray\n",
    "xarr = xr.DataArray(data, coords=[lat,lon], dims=[\"lat\",\"lon\"])\n",
    "xarr"
   ]
  },
  {
   "cell_type": "markdown",
   "metadata": {},
   "source": [
    "Nuestro `DataArray` ha sido creado dentro de la variable `xarr` satisfactoriamente con las dimensiones y coordenadas asignadas correctamente. Ahora podemos acceder a los métodos que xarray ofrece para sus objetos."
   ]
  },
  {
   "cell_type": "code",
   "execution_count": null,
   "metadata": {},
   "outputs": [],
   "source": [
    "xarr.plot()"
   ]
  },
  {
   "cell_type": "markdown",
   "metadata": {},
   "source": [
    "### 3.1.2 Dataset\n",
    "\n",
    "Un `Dataset` es la representación en la memoria del sistema de un archivo netcdf. Al igual que en pandas un `DataFrame` es un conjunto de `Series`, un `Dataset` es un conjunto de `DataArray`. Su declaración es un poco más extensa que un `DataArray` pero a cambio proporciona un contenedor a varias variables."
   ]
  },
  {
   "cell_type": "markdown",
   "metadata": {},
   "source": [
    "## 3.2 Datos Reales"
   ]
  },
  {
   "cell_type": "markdown",
   "metadata": {},
   "source": [
    "Para cargar datos en formato netcdf a una variable, se hacer uso de la función `open_dataset` (en el caso de tener 1 solo archivo) o `open_mfdataset` en caso de tener muchos archivos"
   ]
  },
  {
   "cell_type": "code",
   "execution_count": null,
   "metadata": {},
   "outputs": [],
   "source": [
    "ersstv5 = xr.open_dataset('https://www.esrl.noaa.gov/psd/thredds/dodsC/Datasets/noaa.ersst.v5/sst.mnmean.nc')\n",
    "ersstv5"
   ]
  },
  {
   "cell_type": "markdown",
   "metadata": {},
   "source": [
    "Como podemos observar, la información mostrada es muy similar a lo que uno obtendría al usar `ncdump -h` en la linea de comandos sobre un archivo netcdf. Esta variable, al ser un objeto de xarray, nos da acceso a una variedad de métodos muy útiles para el procesamiento y manejo de dato en geociencias."
   ]
  },
  {
   "cell_type": "markdown",
   "metadata": {},
   "source": [
    "### Calculo del ONI\n",
    "Como ejemplo, vamos a calcular el ONI (Oceanic Nino Index) y compararemos nuestros resultados con los resultados oficiales de la NOAA. El ONI esta definido como la media corrida de 3 meses sobre el indice del Niño 3.4 (5°S-5°N / 170°W-120°W)"
   ]
  },
  {
   "cell_type": "code",
   "execution_count": null,
   "metadata": {},
   "outputs": [],
   "source": [
    "nino34 = ersstv5.sst.sel(lat=slice(5,-5), lon=slice(190, 240))\n",
    "nino34"
   ]
  },
  {
   "cell_type": "markdown",
   "metadata": {},
   "source": [
    "Podemos acceder a algunas funciones utiles de numpy que fueron adaptadas para trabajar con las etiquetas de xarray"
   ]
  },
  {
   "cell_type": "code",
   "execution_count": null,
   "metadata": {},
   "outputs": [],
   "source": [
    "nino34 = nino34.mean(dim=['lat', 'lon'])"
   ]
  },
  {
   "cell_type": "markdown",
   "metadata": {},
   "source": [
    "- #### Calculamos la climatología\n",
    "Para realizar este cálculo, vamos a tomar como periodo base 1986-2015 como fines ilustrativos. En el cálculo actual, el periodo de la climatología cambia cada 5 años segun los criterios considerados por el centro de predicción del clima de la NOAA ([ref](https://origin.cpc.ncep.noaa.gov/products/analysis_monitoring/ensostuff/ONI_change.shtml))"
   ]
  },
  {
   "cell_type": "code",
   "execution_count": null,
   "metadata": {},
   "outputs": [],
   "source": [
    "nino34_clim = nino34.sel(time=slice(\"1986-01-01\", \"2015-12-31\")).groupby(\"time.month\").mean(dim='time')\n",
    "nino34_clim"
   ]
  },
  {
   "cell_type": "code",
   "execution_count": null,
   "metadata": {},
   "outputs": [],
   "source": [
    "fig,ax = plt.subplots()\n",
    "nino34_clim.plot(ax=ax)\n",
    "ax.set_yticks(np.arange(26,28.1,0.2))\n",
    "ax.set_ylim(26,28)\n",
    "ax.grid(ls='--')"
   ]
  },
  {
   "cell_type": "markdown",
   "metadata": {},
   "source": [
    "- #### Calculamos la anomalía\n",
    "Utilizaremos una sintaxis similar para restar las climatologías a los valores absolutos"
   ]
  },
  {
   "cell_type": "code",
   "execution_count": null,
   "metadata": {},
   "outputs": [],
   "source": [
    "nino34_anom = nino34.groupby('time.month') - nino34_clim\n",
    "nino34_anom"
   ]
  },
  {
   "cell_type": "markdown",
   "metadata": {},
   "source": [
    "Calculamos el promedio de las anomalías en la región y aplicamos una media movil de 3 meses"
   ]
  },
  {
   "cell_type": "code",
   "execution_count": null,
   "metadata": {},
   "outputs": [],
   "source": [
    "ONI = nino34_anom.rolling(time=3, center=True).mean(dim='time')\n",
    "ONI"
   ]
  },
  {
   "cell_type": "markdown",
   "metadata": {},
   "source": [
    "Ahora debemos truncar los resultados hasta el segundo decimal. Para lograr esto xarray ofrece una poderosa forma de aplicar funciones de numpy sobre objetos de xarray. La documentación siempre es de gran ayuda al manejar este tipo de funciones complejas ([ref](http://xarray.pydata.org/en/latest/generated/xarray.apply_ufunc.html))"
   ]
  },
  {
   "cell_type": "code",
   "execution_count": null,
   "metadata": {},
   "outputs": [],
   "source": [
    "def truncate_decimals(xrobj, decimals=2):\n",
    "    return xr.apply_ufunc(np.around, xrobj, kwargs={'decimals':decimals})"
   ]
  },
  {
   "cell_type": "code",
   "execution_count": null,
   "metadata": {},
   "outputs": [],
   "source": [
    "ONI = truncate_decimals(ONI)"
   ]
  },
  {
   "cell_type": "markdown",
   "metadata": {},
   "source": [
    "xarray es capaz de crear etiquetas para nuestros ejes si es que encuentra los atributos necesarios. Para poder usar esta caracteristica, debemos de usar la [convención CF](http://cfconventions.org/Data/cf-conventions/cf-conventions-1.7/build/ch03s03.html) al momento de declarar nuestros atributos"
   ]
  },
  {
   "cell_type": "code",
   "execution_count": null,
   "metadata": {},
   "outputs": [],
   "source": [
    "ONI.attrs['long_name'] = \"SST Anomaly\"\n",
    "ONI.attrs['units'] = \"degrees C\""
   ]
  },
  {
   "cell_type": "code",
   "execution_count": null,
   "metadata": {},
   "outputs": [],
   "source": [
    "ONI.plot()"
   ]
  },
  {
   "cell_type": "markdown",
   "metadata": {},
   "source": [
    "xarray usa matplotlib como motor para realizar los gráficos. Si bien provee un metodo rápido y sencillo para este fin (`.plot`), este no está limitado y tiene acceso a las funciones de personalización que matplotlib provee. Para esto necesitamos declarar una figura y un eje usando los métodos de matplotlib primero, esto servirá para indicarle a xarray donde deberá colocar nuestro gráfico usando el argumento `ax`."
   ]
  },
  {
   "cell_type": "code",
   "execution_count": null,
   "metadata": {},
   "outputs": [],
   "source": [
    "# Colocamos el tiempo que queremos plotear \n",
    "plot_data = ONI.sel(time=slice(\"2008-01-01\",\"2019-12-31\"))\n",
    "\n",
    "fig, ax = plt.subplots(dpi=200)\n",
    "\n",
    "plot_data.plot(ax=ax, c='k', lw=0.5)\n",
    "ax.set_ylim(-4, 4)\n",
    "ax.grid(ls='--',lw=0.5)"
   ]
  },
  {
   "cell_type": "markdown",
   "metadata": {},
   "source": [
    "Usando algunas funciones de matplotlib podemos crear un gráfico listo para publicación."
   ]
  },
  {
   "cell_type": "code",
   "execution_count": null,
   "metadata": {},
   "outputs": [],
   "source": [
    "# Colocamos el tiempo que queremos plotear \n",
    "plot_data = ONI.sel(time=slice(\"2008-01-01\",\"2019-12-31\"))\n",
    "\n",
    "# Declaramos la figura y los ejes\n",
    "fig, ax = plt.subplots(dpi=200)\n",
    "\n",
    "ax.fill_between(plot_data.time.data,plot_data.data, 0.5, where = plot_data > 0.5, color='red', interpolate=True, lw=0, label=\"ONI > 0.5\")\n",
    "ax.fill_between(plot_data.time.data,plot_data.data, -0.5, where = plot_data < -0.5, color='blue', interpolate=True, lw=0, label=\"ONI < 0.5\")\n",
    "plot_data.plot(ax=ax, c='k', lw=0.5)\n",
    "\n",
    "minx = plot_data.time.min().data\n",
    "maxx = plot_data.time.max().data\n",
    "ax.hlines(0.5, minx, maxx, lw=0.5, linestyles='--')\n",
    "ax.hlines(-0.5, minx, maxx, lw=0.5, linestyles='--')\n",
    "\n",
    "ax.set_ylim(-4, 4)\n",
    "ax.set_xlim(minx, maxx)\n",
    "\n",
    "ax.text(0.99, 0.01, \"Clim 1981-2010\", fontsize=5, horizontalalignment='right', transform=ax.transAxes)\n",
    "\n",
    "ax.set_title(\"ERSSTv5 ONI\")\n",
    "ax.grid(ls='--',lw=1, alpha=0.3)\n",
    "ax.legend()"
   ]
  },
  {
   "cell_type": "markdown",
   "metadata": {},
   "source": [
    "## A tomar en cuenta\n",
    "Si bien hicimos el cálculo de la manera correcta, los valores difieren de los mostrados por la NOAA ([ref](https://www.cpc.ncep.noaa.gov/data/indices/3mth.nino34.81-10.ascii.txt))."
   ]
  },
  {
   "cell_type": "code",
   "execution_count": null,
   "metadata": {},
   "outputs": [],
   "source": [
    "ONI_noaa = pd.read_fwf('https://origin.cpc.ncep.noaa.gov/data/indices/oni.ascii.txt').rename(columns={'ANOM':'ONI'})\n",
    "ONI_noaa.head()"
   ]
  },
  {
   "cell_type": "markdown",
   "metadata": {},
   "source": [
    "Arreglamos un poco los datos para agregar fechas como indices del dataframe\n",
    "\n",
    "_Nota:_ Por fines practicos estamos colocando los rangos de tiempos fijos ya que conocemos la extensión de nuestra data. Lo recomendable es buscar una forma de poder inferir automaticamente estos rangos conforme los datos se vayan actualizando"
   ]
  },
  {
   "cell_type": "code",
   "execution_count": null,
   "metadata": {},
   "outputs": [],
   "source": [
    "time_series = pd.date_range('1950-01-01','2019-07-01',freq=pd.offsets.MonthBegin())\n",
    "time_series"
   ]
  },
  {
   "cell_type": "code",
   "execution_count": null,
   "metadata": {},
   "outputs": [],
   "source": [
    "ONI_noaa_ts = ONI_noaa.set_index(time_series)[['ONI']]\n",
    "ONI_noaa_ts.head()"
   ]
  },
  {
   "cell_type": "markdown",
   "metadata": {},
   "source": [
    "Podemos hacer un gráfico rápido del dataframe para revisar que estamos haciendo las cosas bien"
   ]
  },
  {
   "cell_type": "code",
   "execution_count": null,
   "metadata": {},
   "outputs": [],
   "source": [
    "ONI_noaa_ts.query(\"index>='2008-01-01'\").plot()"
   ]
  },
  {
   "cell_type": "markdown",
   "metadata": {},
   "source": [
    "Ahora convertimos nuestra serie de tiempo de pandas a xarray para facilitar la manipulación de los datos.\n",
    "\n",
    "Es en este momento que debemos de recordar las similitudes entre xarray y pandas. Ambos paquetes cuenta con estructuras básicas: `DataArray` y `Dataset`(xarray), `Series` y `DataFrame` (pandas).\n",
    "\n",
    "xarray es capaz de crear un `DataArray` usando un arreglo de numpy, pero no se limita a ese tipo de objetos, sino tambien puede aceptar una `Series` de pandas y construir un objeto de xarray; de la misma forma, al ser un `Dataset` una agrupación de `DataArray`s (ya pueden ver por donde va esto), puede aceptar un `DataFrame` el cual es una agrupación de `Series`."
   ]
  },
  {
   "cell_type": "code",
   "execution_count": null,
   "metadata": {},
   "outputs": [],
   "source": [
    "xONI_noaa = xr.DataArray(ONI_noaa_ts.query(\"index>='2008-01-01'\")['ONI'],dims=('time'))\n",
    "xONI_noaa"
   ]
  },
  {
   "cell_type": "code",
   "execution_count": null,
   "metadata": {},
   "outputs": [],
   "source": [
    "diff = xONI_noaa - ONI.sel(time=xONI_noaa.time)\n",
    "fig, ax = plt.subplots()\n",
    "diff.sel(time=slice('2015-01-01',None)).plot(ax=ax)\n",
    "ax.set_ylim(-0.5,0.5)"
   ]
  },
  {
   "cell_type": "markdown",
   "metadata": {},
   "source": [
    "La razón de este error es debido a que la base de datos usada parece tener una ligera variación en los datos absolutos, lo cual no afecta tanto a la climatología pero si a la anomalía calculada. Estos datos venian en un netcdf completo el cual fue facil de manipular usando xarray, ahora usaremos los mismo datos pero de IRI library."
   ]
  },
  {
   "cell_type": "code",
   "execution_count": null,
   "metadata": {},
   "outputs": [],
   "source": [
    "ersstv5_iri = xr.open_dataset('http://iridl.ldeo.columbia.edu/SOURCES/.NOAA/.NCDC/.ERSST/.version5/.sst/dods',decode_times=False)\n",
    "ersstv5_iri"
   ]
  },
  {
   "cell_type": "markdown",
   "metadata": {},
   "source": [
    "Como podemos observar, las dimensiones no tienen los nombres convencionales (lat, lon, time) y el tiempo no pudo ser entendido por xarray ya que las unidades son en meses desde 1960 (lo convencional es tener estas unidades en días).\n",
    "\n",
    "Para arreglar este problema, debemos de cambiar el calendario en el que se encuentra nuestra variable tiempo a `360_day` para que pueda ser entendido por el paquete [cftime](https://unidata.github.io/cftime/api.html) (_[GH issue](https://github.com/Unidata/cftime/pull/69)_)"
   ]
  },
  {
   "cell_type": "code",
   "execution_count": null,
   "metadata": {},
   "outputs": [],
   "source": [
    "ersstv5_iri.T"
   ]
  },
  {
   "cell_type": "code",
   "execution_count": null,
   "metadata": {},
   "outputs": [],
   "source": [
    "ersstv5_iri.T.attrs['calendar'] = '360_day'\n",
    "# Ahora le decimos a xarray que interprete los tiempos\n",
    "ersstv5_iri = xr.decode_cf(ds)\n",
    "ersstv5_iri"
   ]
  },
  {
   "cell_type": "markdown",
   "metadata": {},
   "source": [
    "Sin embargo, nuestra dimensión tiempo es un objeto de cftime, por lo que la manipulación de fechas estará limitada en cierta forma. Esta forma de tratar con fechas no convencionales se puede encontrar en la [documentación](http://xarray.pydata.org/en/stable/weather-climate.html#non-standard-calendars-and-dates-outside-the-timestamp-valid-range)"
   ]
  },
  {
   "cell_type": "code",
   "execution_count": null,
   "metadata": {},
   "outputs": [],
   "source": [
    "ersstv5_iri['T'] = ersstv5_iri.indexes['T'].shift(-15,'D').to_datetimeindex()\n",
    "ersstv5_iri['T']"
   ]
  },
  {
   "cell_type": "markdown",
   "metadata": {},
   "source": [
    "Como queremos manejar nuestros datos de una manera más entendible, vamos a asignar mejores nombres a las dimensiones"
   ]
  },
  {
   "cell_type": "code",
   "execution_count": null,
   "metadata": {},
   "outputs": [],
   "source": [
    "ersstv5_iri = ersstv5_iri.rename({'X':'lon','Y':'lat','T':'time'})\n",
    "ersstv5_iri"
   ]
  },
  {
   "cell_type": "markdown",
   "metadata": {},
   "source": [
    "Ahora procedemos a realizar los calculos para la región el Niño 3.4 como se hizo [previamente](#Calculo-del-ONI)"
   ]
  },
  {
   "cell_type": "code",
   "execution_count": null,
   "metadata": {},
   "outputs": [],
   "source": [
    "nino34_iri = ersstv5_iri.sst.sel(lat=slice(-5, 5), lon=slice(190, 240)).mean(dim=['lat','lon'])\n",
    "nino34_iri_clim = nino34_iri.sel(time=slice(\"1986-01-01\", \"2015-12-30\")).groupby(\"time.month\").mean(dim='time')\n",
    "nino34_iri_anom = nino34_iri.groupby('time.month') - nino34_iri_clim\n",
    "ONI_iri = nino34_iri_anom.rolling(time=3, center=True).mean(dim='time')\n",
    "ONI_iri = truncate_decimals(ONI_iri)"
   ]
  },
  {
   "cell_type": "code",
   "execution_count": null,
   "metadata": {},
   "outputs": [],
   "source": [
    "diff = xONI_noaa - ONI_iri.sel(time=xONI_noaa.time)\n",
    "fig, ax = plt.subplots()\n",
    "diff.sel(time=slice('2015-01-01',None)).plot(ax=ax)\n",
    "ax.set_ylim(-0.5,0.5)"
   ]
  },
  {
   "cell_type": "code",
   "execution_count": null,
   "metadata": {},
   "outputs": [],
   "source": []
  }
 ],
 "metadata": {
  "kernelspec": {
   "display_name": "Python 3",
   "language": "python",
   "name": "python3"
  },
  "language_info": {
   "codemirror_mode": {
    "name": "ipython",
    "version": 3
   },
   "file_extension": ".py",
   "mimetype": "text/x-python",
   "name": "python",
   "nbconvert_exporter": "python",
   "pygments_lexer": "ipython3",
   "version": "3.6.7"
  }
 },
 "nbformat": 4,
 "nbformat_minor": 4
}
