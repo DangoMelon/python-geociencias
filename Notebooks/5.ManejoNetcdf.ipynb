{
 "cells": [
  {
   "cell_type": "markdown",
   "metadata": {},
   "source": [
    "# 3. Manejando Netcdf"
   ]
  },
  {
   "cell_type": "markdown",
   "metadata": {},
   "source": [
    "Para manejar netcdfs usando python haremos uso extensivo de los paquetes estrella de la plataforma Pangeo. Pangeo es un esfuerzo de la comunidad que promueve la reproductibilidad, escalamiento y transparencia en la ciencia.\n",
    "\n",
    "El paquete de cabecera para el manejo de netcdfs será [xarray](http://xarray.pydata.org/en/latest/). Xarray extiende las capacidades de numpy en el manejo de datos n-dimensionales introduciendo etiquetas en forma de dimensiones, coordenadas y atributos que facilitan las operaciones sobre los mismos. El motor para las operaciones entre fechas es proporcionado por pandas y la escalabilidad de los datos es proporcionado por dask, lo cual convierte a este paquete en una herramienta poderosa."
   ]
  },
  {
   "cell_type": "code",
   "execution_count": null,
   "metadata": {},
   "outputs": [],
   "source": [
    "%matplotlib inline\n",
    "import numpy as np\n",
    "import xarray as xr\n",
    "import matplotlib.pyplot as plt"
   ]
  },
  {
   "cell_type": "markdown",
   "metadata": {},
   "source": [
    "## 3.1 Estructuras de xarray\n",
    "\n",
    "xarray cuenta con dos estructuras simples que son fundamentales comprender para un mejor uso del paquete. Esta es una brevisima descripción sobre algunos conceptos claves que se deben tener presentes, mayor informacion la pueden encontrar siempre en la [documentacion](http://xarray.pydata.org/en/stable/data-structures.html#)\n",
    "\n",
    "### 3.1.1 DataArray\n",
    "\n",
    "Un `DataArray` es virtualmente igual a un arreglo n-dimensional de numpy que cuenta con etiquetas en sus dimensiones, siendo el elemento base de xarray. Para denifinir un `DataArray` necesitaremos proporcionar, como mínimo, una arreglo de elementos numéricos."
   ]
  },
  {
   "cell_type": "code",
   "execution_count": null,
   "metadata": {},
   "outputs": [],
   "source": [
    "xr.DataArray(np.random.randn(10,40))"
   ]
  },
  {
   "cell_type": "markdown",
   "metadata": {},
   "source": [
    "Como podemos observar, xarray automaticamente asignó nombres a las dimensiones y nos informa que no encuentra coordenadas asociadas a estas dimensiones. Ahora procederemos a declarar un `DataArray` con la información que falta"
   ]
  },
  {
   "cell_type": "code",
   "execution_count": null,
   "metadata": {},
   "outputs": [],
   "source": [
    "# Creamos un poco de data falsa\n",
    "lat = np.arange(-90, 90, 0.25)\n",
    "lon = np.arange(0, 360, 0.25)\n",
    "llon, llat = np.meshgrid(lon, lat)\n",
    "data = np.sin(llat**2-llon**2)\n",
    "\n",
    "# Creamos el DataArray\n",
    "xarr = xr.DataArray(data, coords=[lat,lon], dims=[\"lat\",\"lon\"])\n",
    "xarr"
   ]
  },
  {
   "cell_type": "markdown",
   "metadata": {},
   "source": [
    "Nuestro `DataArray` ha sido creado dentro de la variable `xarr` satisfactoriamente con las dimensiones y coordenadas asignadas correctamente. Ahora podemos acceder a los métodos que xarray ofrece para sus objetos."
   ]
  },
  {
   "cell_type": "code",
   "execution_count": null,
   "metadata": {},
   "outputs": [],
   "source": [
    "xarr.plot()"
   ]
  },
  {
   "cell_type": "markdown",
   "metadata": {},
   "source": [
    "### 3.1.2 Dataset\n",
    "\n",
    "Un `Dataset` es la representación en la memoria del sistema de un archivo netcdf. Al igual que en pandas un `DataFrame` es un conjunto de `Series`, un `Dataset` es un conjunto de `DataArray`. Su declaración es un poco más extensa que un `DataArray` pero a cambio proporciona un contenedor a varias variables."
   ]
  },
  {
   "cell_type": "markdown",
   "metadata": {},
   "source": [
    "## 3.2 Datos Reales"
   ]
  },
  {
   "cell_type": "markdown",
   "metadata": {},
   "source": [
    "Para cargar datos en formato netcdf a una variable, se hacer uso de la función `open_dataset` (en el caso de tener 1 solo archivo) o `open_mfdataset` en caso de tener muchos archivos"
   ]
  },
  {
   "cell_type": "code",
   "execution_count": null,
   "metadata": {},
   "outputs": [],
   "source": [
    "ersstv5 = xr.open_dataset('https://www.esrl.noaa.gov/psd/thredds/dodsC/Datasets/noaa.ersst.v5/sst.mnmean.nc')\n",
    "ersstv5"
   ]
  },
  {
   "cell_type": "markdown",
   "metadata": {},
   "source": [
    "Como podemos observar, la información mostrada es muy similar a lo que uno obtendría al usar `ncdump -h` en la linea de comandos sobre un archivo netcdf. Esta variable, al ser un objeto de xarray, nos da acceso a una variedad de métodos muy útiles para el procesamiento y manejo de dato en geociencias."
   ]
  },
  {
   "cell_type": "markdown",
   "metadata": {},
   "source": [
    "### Calculo del ONI\n",
    "Como ejemplo, vamos a calcular el ONI (Oceanic Nino Index) y compararemos nuestros resultados con los resultados oficiales de la NOAA. El ONI esta definido como la media corrida de 3 meses sobre el indice del Niño 3.4 (5°S-5°N / 170°W-120°W)"
   ]
  },
  {
   "cell_type": "code",
   "execution_count": null,
   "metadata": {},
   "outputs": [],
   "source": [
    "nino34 = ersstv5.sst.sel(lat=slice(5,-5), lon=slice(190, 240))\n",
    "nino34"
   ]
  },
  {
   "cell_type": "markdown",
   "metadata": {},
   "source": [
    "- #### Calculamos la climatología\n",
    "Para realizar este cálculo, vamos a tomar como periodo base 1981-2010 como fines ilustrativos. En el cálculo actual, el periodo de la climatología cambia cada 5 años segun los criterios considerados por el centro de predicción del clima de la NOAA ([ref](https://origin.cpc.ncep.noaa.gov/products/analysis_monitoring/ensostuff/ONI_change.shtml))"
   ]
  },
  {
   "cell_type": "code",
   "execution_count": null,
   "metadata": {},
   "outputs": [],
   "source": [
    "nino34_clim = nino34.sel(time=slice(\"1981-01-01\", \"2010-12-31\")).groupby(\"time.month\").mean(dim='time')\n",
    "nino34_clim"
   ]
  },
  {
   "cell_type": "code",
   "execution_count": null,
   "metadata": {},
   "outputs": [],
   "source": [
    "fig,ax = plt.subplots()\n",
    "nino34_clim.mean(dim=['lat', 'lon']).plot(ax=ax)\n",
    "ax.set_yticks(np.arange(26,28.1,0.2))\n",
    "ax.set_ylim(26,28)\n",
    "ax.grid(ls='--')"
   ]
  },
  {
   "cell_type": "markdown",
   "metadata": {},
   "source": [
    "- #### Calculamos la anomalía\n",
    "Utilizaremos una sintaxis similar para restar las climatologías a los valores absolutos"
   ]
  },
  {
   "cell_type": "code",
   "execution_count": null,
   "metadata": {},
   "outputs": [],
   "source": [
    "nino34_anom = nino34.groupby('time.month') - nino34_clim\n",
    "nino34_anom"
   ]
  },
  {
   "cell_type": "markdown",
   "metadata": {},
   "source": [
    "Calculamos el promedio de las anomalías en la región y aplicamos una media movil de 3 meses"
   ]
  },
  {
   "cell_type": "code",
   "execution_count": null,
   "metadata": {},
   "outputs": [],
   "source": [
    "ONI = nino34_anom.mean(dim=['lon','lat']).rolling(time=3, center=True).mean(dim='time')\n",
    "ONI"
   ]
  },
  {
   "cell_type": "markdown",
   "metadata": {},
   "source": [
    "xarray es capaz de crear etiquetas para nuestros ejes si es que encuentra los atributos necesarios. Para poder usar esta caracteristica, debemos de usar la [convención CF](http://cfconventions.org/Data/cf-conventions/cf-conventions-1.7/build/ch03s03.html) al momento de declarar nuestros atributos"
   ]
  },
  {
   "cell_type": "code",
   "execution_count": null,
   "metadata": {},
   "outputs": [],
   "source": [
    "ONI.attrs['long_name'] = \"SST Anomaly\"\n",
    "ONI.attrs['units'] = \"degrees C\""
   ]
  },
  {
   "cell_type": "code",
   "execution_count": null,
   "metadata": {},
   "outputs": [],
   "source": [
    "ONI.plot()"
   ]
  },
  {
   "cell_type": "markdown",
   "metadata": {},
   "source": [
    "xarray usa matplotlib como motor para realizar los gráficos. Si bien provee un metodo rápido y sencillo para este fin (`.plot`), este no está limitado y tiene acceso a las funciones de personalización que matplotlib provee. Para esto necesitamos declarar una figura y un eje usando los métodos de matplotlib primero, esto servirá para indicarle a xarray donde deberá colocar nuestro gráfico usando el argumento `ax`."
   ]
  },
  {
   "cell_type": "code",
   "execution_count": null,
   "metadata": {},
   "outputs": [],
   "source": [
    "# Colocamos el tiempo que queremos plotear \n",
    "plot_data = ONI.sel(time=slice(\"2008-01-01\",\"2019-12-31\"))\n",
    "\n",
    "fig, ax = plt.subplots(dpi=200)\n",
    "\n",
    "plot_data.plot(ax=ax, c='k', lw=0.5)\n",
    "ax.set_ylim(-4, 4)\n",
    "ax.grid(ls='--',lw=0.5)"
   ]
  },
  {
   "cell_type": "markdown",
   "metadata": {},
   "source": [
    "Usando algunas funciones de matplotlib podemos crear un gráfico listo para publicación."
   ]
  },
  {
   "cell_type": "code",
   "execution_count": null,
   "metadata": {},
   "outputs": [],
   "source": [
    "# Colocamos el tiempo que queremos plotear \n",
    "plot_data = ONI.sel(time=slice(\"2008-01-01\",\"2019-12-31\"))\n",
    "\n",
    "# Declaramos la figura y los ejes\n",
    "fig, ax = plt.subplots(dpi=200)\n",
    "\n",
    "ax.fill_between(plot_data.time.data,plot_data.data, 0.5, where = plot_data > 0.5, color='red', interpolate=True, lw=0, label=\"ONI > 0.5\")\n",
    "ax.fill_between(plot_data.time.data,plot_data.data, -0.5, where = plot_data < -0.5, color='blue', interpolate=True, lw=0, label=\"ONI < 0.5\")\n",
    "plot_data.plot(ax=ax, c='k', lw=0.5)\n",
    "\n",
    "minx = plot_data.time.min().data\n",
    "maxx = plot_data.time.max().data\n",
    "ax.hlines(0.5, minx, maxx, lw=0.5, linestyles='--')\n",
    "ax.hlines(-0.5, minx, maxx, lw=0.5, linestyles='--')\n",
    "\n",
    "ax.set_ylim(-4, 4)\n",
    "ax.set_xlim(minx, maxx)\n",
    "\n",
    "ax.text(0.99, 0.01, \"Clim 1981-2010\", fontsize=5, horizontalalignment='right', transform=ax.transAxes)\n",
    "\n",
    "ax.set_title(\"ERSSTv5 ONI\")\n",
    "ax.grid(ls='--',lw=1, alpha=0.3)\n",
    "ax.legend()"
   ]
  },
  {
   "cell_type": "code",
   "execution_count": null,
   "metadata": {},
   "outputs": [],
   "source": []
  }
 ],
 "metadata": {
  "kernelspec": {
   "display_name": "Python 3",
   "language": "python",
   "name": "python3"
  },
  "language_info": {
   "codemirror_mode": {
    "name": "ipython",
    "version": 3
   },
   "file_extension": ".py",
   "mimetype": "text/x-python",
   "name": "python",
   "nbconvert_exporter": "python",
   "pygments_lexer": "ipython3",
   "version": "3.6.7"
  }
 },
 "nbformat": 4,
 "nbformat_minor": 4
}
