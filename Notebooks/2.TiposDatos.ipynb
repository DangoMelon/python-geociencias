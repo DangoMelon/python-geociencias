{
 "cells": [
  {
   "cell_type": "markdown",
   "metadata": {},
   "source": [
    "# 2. Tipos de Datos\n",
    "\n",
    "Al ser un lenguaje orientado a objetos, toda variable que declaremos en Python es un objeto (hasta los numeros). Las variables son referencias a los objetos que le son asignados, por ende, uno no necesita declarar el tipo de una variable antes de asignarle un valor (ya que todo es un objeto).\n",
    "\n",
    "Las variables son asignadas mediante el signo de igualdad `=`"
   ]
  },
  {
   "cell_type": "code",
   "execution_count": 5,
   "metadata": {},
   "outputs": [
    {
     "name": "stdout",
     "output_type": "stream",
     "text": [
      "La variable x tiene como valor 4 el cual es de tipo <class 'int'>.\n",
      "¿x es un objeto? True\n"
     ]
    }
   ],
   "source": [
    "x = 4\n",
    "print(f\"La variable x tiene como valor {x} el cual es de tipo {type(x)}.\\n¿x es un objeto? {isinstance(x, object)}\")"
   ]
  },
  {
   "cell_type": "markdown",
   "metadata": {},
   "source": [
    "Como pudimos observar en el ejemplo anterior, el valor de `x` pertener a la clase `int`, un tipo de objeto en python que representa los numeros enteros. Para entender mejor la idea de objetos en python, uno puede imaginar el caso de operaciones con ángulos en donde se sabe que una rotación completa da $2\\pi$. Si este problema se implementara sin tratar a los ángulos como un tipo de variablke especial, esta regla nunca se llegaría a cumplir ya que las sumas no estarían enteras del concepto de una rotación completa. Para solucionar esto, se puede tratar cada ángulo como un objeto independiente que comparte las misma y operaciones base pero tiene caracteristicas diferente, tal como medida, origen, sentido, etc.\n",
    "Volviendo al ejemplo donde `x=4`. Esta asignación de variable no limita el tipo de dato que `x` puede contener, esto quiere decir que podemos asignarle a `x` otro valor de otro tipo"
   ]
  },
  {
   "cell_type": "code",
   "execution_count": 6,
   "metadata": {},
   "outputs": [
    {
     "name": "stdout",
     "output_type": "stream",
     "text": [
      "La variable x tiene como valor hola el cual es de tipo <class 'str'>.\n",
      "¿x es un objeto? True\n"
     ]
    }
   ],
   "source": [
    "x=\"hola\"\n",
    "print(f\"La variable x tiene como valor {x} el cual es de tipo {type(x)}.\\n¿x es un objeto? {isinstance(x, object)}\")"
   ]
  },
  {
   "cell_type": "markdown",
   "metadata": {},
   "source": [
    "Como se puede observar, ambos valores asignados a `x` forman parte de objetos distintos, pudiendo ser asignados a la misma variable sin importar el tipo de objeto que inicialmente fue guardado."
   ]
  },
  {
   "cell_type": "code",
   "execution_count": null,
   "metadata": {},
   "outputs": [],
   "source": []
  }
 ],
 "metadata": {
  "kernelspec": {
   "display_name": "Python 3",
   "language": "python",
   "name": "python3"
  },
  "language_info": {
   "codemirror_mode": {
    "name": "ipython",
    "version": 3
   },
   "file_extension": ".py",
   "mimetype": "text/x-python",
   "name": "python",
   "nbconvert_exporter": "python",
   "pygments_lexer": "ipython3",
   "version": "3.6.7"
  }
 },
 "nbformat": 4,
 "nbformat_minor": 4
}
